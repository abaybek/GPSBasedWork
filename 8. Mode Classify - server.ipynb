{
 "cells": [
  {
   "cell_type": "code",
   "execution_count": 1,
   "metadata": {},
   "outputs": [
    {
     "name": "stderr",
     "output_type": "stream",
     "text": [
      "/home/zh.shakenov/miniconda3/envs/disser/lib/python3.6/site-packages/IPython/core/interactiveshell.py:2785: DtypeWarning: Columns (11) have mixed types. Specify dtype option on import or set low_memory=False.\n",
      "  interactivity=interactivity, compiler=compiler, result=result)\n"
     ]
    },
    {
     "data": {
      "text/html": [
       "<div>\n",
       "<style scoped>\n",
       "    .dataframe tbody tr th:only-of-type {\n",
       "        vertical-align: middle;\n",
       "    }\n",
       "\n",
       "    .dataframe tbody tr th {\n",
       "        vertical-align: top;\n",
       "    }\n",
       "\n",
       "    .dataframe thead th {\n",
       "        text-align: right;\n",
       "    }\n",
       "</style>\n",
       "<table border=\"1\" class=\"dataframe\">\n",
       "  <thead>\n",
       "    <tr style=\"text-align: right;\">\n",
       "      <th></th>\n",
       "      <th>lat</th>\n",
       "      <th>long</th>\n",
       "      <th>altitude</th>\n",
       "      <th>datetime</th>\n",
       "      <th>timedelta</th>\n",
       "      <th>distance</th>\n",
       "      <th>velocity</th>\n",
       "      <th>acceleration</th>\n",
       "      <th>trajectory_id</th>\n",
       "      <th>subfolder</th>\n",
       "      <th>...</th>\n",
       "      <th>a_ave</th>\n",
       "      <th>a_med</th>\n",
       "      <th>a_max</th>\n",
       "      <th>a_min</th>\n",
       "      <th>a_std</th>\n",
       "      <th>a_rol</th>\n",
       "      <th>a_rsd</th>\n",
       "      <th>a_qu1</th>\n",
       "      <th>a_qu2</th>\n",
       "      <th>a_qu3</th>\n",
       "    </tr>\n",
       "  </thead>\n",
       "  <tbody>\n",
       "    <tr>\n",
       "      <th>0</th>\n",
       "      <td>40.061035</td>\n",
       "      <td>116.407049</td>\n",
       "      <td>64.0</td>\n",
       "      <td>2011-05-29 22:30:19</td>\n",
       "      <td>0 days 00:00:01.000000000</td>\n",
       "      <td>13.357307</td>\n",
       "      <td>13.357307</td>\n",
       "      <td>-0.810261</td>\n",
       "      <td>20110529222904</td>\n",
       "      <td>168</td>\n",
       "      <td>...</td>\n",
       "      <td>-0.029584</td>\n",
       "      <td>0.0</td>\n",
       "      <td>8.873882</td>\n",
       "      <td>-14.649245</td>\n",
       "      <td>0.731106</td>\n",
       "      <td>-0.193232</td>\n",
       "      <td>3.278783</td>\n",
       "      <td>-0.531929</td>\n",
       "      <td>0.024086</td>\n",
       "      <td>0.678226</td>\n",
       "    </tr>\n",
       "    <tr>\n",
       "      <th>1</th>\n",
       "      <td>40.060915</td>\n",
       "      <td>116.407060</td>\n",
       "      <td>65.0</td>\n",
       "      <td>2011-05-29 22:30:20</td>\n",
       "      <td>0 days 00:00:01.000000000</td>\n",
       "      <td>12.547046</td>\n",
       "      <td>12.547046</td>\n",
       "      <td>0.810261</td>\n",
       "      <td>20110529222904</td>\n",
       "      <td>168</td>\n",
       "      <td>...</td>\n",
       "      <td>-0.029584</td>\n",
       "      <td>0.0</td>\n",
       "      <td>8.873882</td>\n",
       "      <td>-14.649245</td>\n",
       "      <td>0.731106</td>\n",
       "      <td>-0.107458</td>\n",
       "      <td>3.269948</td>\n",
       "      <td>-0.333394</td>\n",
       "      <td>0.050601</td>\n",
       "      <td>0.784147</td>\n",
       "    </tr>\n",
       "    <tr>\n",
       "      <th>2</th>\n",
       "      <td>40.060802</td>\n",
       "      <td>116.407060</td>\n",
       "      <td>63.0</td>\n",
       "      <td>2011-05-29 22:30:21</td>\n",
       "      <td>0 days 00:00:01.000000000</td>\n",
       "      <td>13.357307</td>\n",
       "      <td>13.357307</td>\n",
       "      <td>-0.634696</td>\n",
       "      <td>20110529222904</td>\n",
       "      <td>168</td>\n",
       "      <td>...</td>\n",
       "      <td>-0.029584</td>\n",
       "      <td>0.0</td>\n",
       "      <td>8.873882</td>\n",
       "      <td>-14.649245</td>\n",
       "      <td>0.731106</td>\n",
       "      <td>-0.118051</td>\n",
       "      <td>3.271165</td>\n",
       "      <td>-0.531929</td>\n",
       "      <td>0.050601</td>\n",
       "      <td>0.784147</td>\n",
       "    </tr>\n",
       "    <tr>\n",
       "      <th>3</th>\n",
       "      <td>40.060682</td>\n",
       "      <td>116.407071</td>\n",
       "      <td>63.0</td>\n",
       "      <td>2011-05-29 22:30:22</td>\n",
       "      <td>0 days 00:00:01.000000000</td>\n",
       "      <td>12.722611</td>\n",
       "      <td>12.722611</td>\n",
       "      <td>-1.113277</td>\n",
       "      <td>20110529222904</td>\n",
       "      <td>168</td>\n",
       "      <td>...</td>\n",
       "      <td>-0.029584</td>\n",
       "      <td>0.0</td>\n",
       "      <td>8.873882</td>\n",
       "      <td>-14.649245</td>\n",
       "      <td>0.731106</td>\n",
       "      <td>-0.118465</td>\n",
       "      <td>3.271294</td>\n",
       "      <td>-0.531929</td>\n",
       "      <td>0.050601</td>\n",
       "      <td>0.784147</td>\n",
       "    </tr>\n",
       "    <tr>\n",
       "      <th>4</th>\n",
       "      <td>40.060568</td>\n",
       "      <td>116.407086</td>\n",
       "      <td>62.0</td>\n",
       "      <td>2011-05-29 22:30:23</td>\n",
       "      <td>0 days 00:00:01.000000000</td>\n",
       "      <td>11.609334</td>\n",
       "      <td>11.609334</td>\n",
       "      <td>-1.358473</td>\n",
       "      <td>20110529222904</td>\n",
       "      <td>168</td>\n",
       "      <td>...</td>\n",
       "      <td>-0.029584</td>\n",
       "      <td>0.0</td>\n",
       "      <td>8.873882</td>\n",
       "      <td>-14.649245</td>\n",
       "      <td>0.731106</td>\n",
       "      <td>-0.152541</td>\n",
       "      <td>3.278956</td>\n",
       "      <td>-0.618968</td>\n",
       "      <td>0.050601</td>\n",
       "      <td>0.784147</td>\n",
       "    </tr>\n",
       "  </tbody>\n",
       "</table>\n",
       "<p>5 rows × 31 columns</p>\n",
       "</div>"
      ],
      "text/plain": [
       "         lat        long  altitude             datetime  \\\n",
       "0  40.061035  116.407049      64.0  2011-05-29 22:30:19   \n",
       "1  40.060915  116.407060      65.0  2011-05-29 22:30:20   \n",
       "2  40.060802  116.407060      63.0  2011-05-29 22:30:21   \n",
       "3  40.060682  116.407071      63.0  2011-05-29 22:30:22   \n",
       "4  40.060568  116.407086      62.0  2011-05-29 22:30:23   \n",
       "\n",
       "                   timedelta   distance   velocity  acceleration  \\\n",
       "0  0 days 00:00:01.000000000  13.357307  13.357307     -0.810261   \n",
       "1  0 days 00:00:01.000000000  12.547046  12.547046      0.810261   \n",
       "2  0 days 00:00:01.000000000  13.357307  13.357307     -0.634696   \n",
       "3  0 days 00:00:01.000000000  12.722611  12.722611     -1.113277   \n",
       "4  0 days 00:00:01.000000000  11.609334  11.609334     -1.358473   \n",
       "\n",
       "    trajectory_id subfolder    ...        a_ave  a_med     a_max      a_min  \\\n",
       "0  20110529222904       168    ...    -0.029584    0.0  8.873882 -14.649245   \n",
       "1  20110529222904       168    ...    -0.029584    0.0  8.873882 -14.649245   \n",
       "2  20110529222904       168    ...    -0.029584    0.0  8.873882 -14.649245   \n",
       "3  20110529222904       168    ...    -0.029584    0.0  8.873882 -14.649245   \n",
       "4  20110529222904       168    ...    -0.029584    0.0  8.873882 -14.649245   \n",
       "\n",
       "      a_std     a_rol     a_rsd     a_qu1     a_qu2     a_qu3  \n",
       "0  0.731106 -0.193232  3.278783 -0.531929  0.024086  0.678226  \n",
       "1  0.731106 -0.107458  3.269948 -0.333394  0.050601  0.784147  \n",
       "2  0.731106 -0.118051  3.271165 -0.531929  0.050601  0.784147  \n",
       "3  0.731106 -0.118465  3.271294 -0.531929  0.050601  0.784147  \n",
       "4  0.731106 -0.152541  3.278956 -0.618968  0.050601  0.784147  \n",
       "\n",
       "[5 rows x 31 columns]"
      ]
     },
     "execution_count": 1,
     "metadata": {},
     "output_type": "execute_result"
    }
   ],
   "source": [
    "import glob\n",
    "import pandas as pd \n",
    "\n",
    "# Specify what folders do we need\n",
    "INPUT_FOLDER      = './data_preprocessed4/'\n",
    "COLUMNS = ['velocity', 'acceleration', 'trajectory_id', 'subfolder',\n",
    "        'labels', 'v_ave', 'v_med', 'v_max', 'v_std', 'a_ave', 'a_med', 'a_max', 'a_std']\n",
    "\n",
    "list_df_metadata = []\n",
    "\n",
    "# Find all files that ends with .csv, read and append to the list_df_metadata\n",
    "for filename in glob.glob(INPUT_FOLDER + '*.csv'):\n",
    "    df_data = pd.read_csv(filename)\n",
    "    list_df_metadata.append(df_data)\n",
    "    \n",
    "df_metadata = pd.concat(list_df_metadata)\n",
    "df_metadata = df_metadata.drop(['Unnamed: 0'], axis=1)\n",
    "df_metadata = df_metadata.reset_index(drop=True)\n",
    "df_metadata.head()"
   ]
  },
  {
   "cell_type": "code",
   "execution_count": 2,
   "metadata": {},
   "outputs": [],
   "source": [
    "X_COLUMNS = ['v_rol', 'v_rsd', 'v_qu1','v_qu2', 'v_qu3', 'a_rol', 'a_rsd', 'a_qu1', 'a_qu2', 'a_qu3']\n",
    "Y_COLUMN  = ['labels']"
   ]
  },
  {
   "cell_type": "code",
   "execution_count": 3,
   "metadata": {},
   "outputs": [
    {
     "name": "stdout",
     "output_type": "stream",
     "text": [
      "(23380929, 31)\n",
      "(4583070, 31)\n"
     ]
    }
   ],
   "source": [
    "print(df_metadata.shape)\n",
    "# df_metadata2 = df_metadata.dropna(subset=['labels'], axis=0)\n",
    "df_metadata2 = df_metadata.dropna()\n",
    "print(df_metadata2.shape)\n",
    "X = df_metadata2[X_COLUMNS]\n",
    "Y = df_metadata2[Y_COLUMN]"
   ]
  },
  {
   "cell_type": "code",
   "execution_count": 4,
   "metadata": {},
   "outputs": [
    {
     "data": {
      "text/plain": [
       "walk          1228399\n",
       "bus           1158420\n",
       "bike           705599\n",
       "train          558909\n",
       "car            484383\n",
       "subway         234119\n",
       "taxi           198446\n",
       "airplane         8990\n",
       "boat             3502\n",
       "run              1965\n",
       "motorcycle        338\n",
       "Name: labels, dtype: int64"
      ]
     },
     "execution_count": 4,
     "metadata": {},
     "output_type": "execute_result"
    }
   ],
   "source": [
    "df_metadata2['labels'].value_counts(dropna=False)"
   ]
  },
  {
   "cell_type": "code",
   "execution_count": 5,
   "metadata": {},
   "outputs": [],
   "source": [
    "from sklearn.model_selection import train_test_split\n",
    "\n",
    "X_train, X_test, y_train, y_test = train_test_split(X, Y, test_size=0.3, random_state=123, stratify=Y)"
   ]
  },
  {
   "cell_type": "code",
   "execution_count": 6,
   "metadata": {},
   "outputs": [
    {
     "name": "stdout",
     "output_type": "stream",
     "text": [
      "walk          859879\n",
      "bus           810894\n",
      "bike          493919\n",
      "train         391236\n",
      "car           339068\n",
      "subway        163883\n",
      "taxi          138912\n",
      "airplane        6293\n",
      "boat            2452\n",
      "run             1376\n",
      "motorcycle       237\n",
      "Name: labels, dtype: int64\n",
      "walk          368520\n",
      "bus           347526\n",
      "bike          211680\n",
      "train         167673\n",
      "car           145315\n",
      "subway         70236\n",
      "taxi           59534\n",
      "airplane        2697\n",
      "boat            1050\n",
      "run              589\n",
      "motorcycle       101\n",
      "Name: labels, dtype: int64\n"
     ]
    }
   ],
   "source": [
    "print(y_train['labels'].value_counts())\n",
    "print(y_test['labels'].value_counts())"
   ]
  },
  {
   "cell_type": "code",
   "execution_count": 7,
   "metadata": {},
   "outputs": [],
   "source": [
    "import numpy as np\n",
    "\n",
    "from time import time\n",
    "from scipy.stats import randint as sp_randint\n",
    "\n",
    "from sklearn.model_selection import GridSearchCV\n",
    "from sklearn.model_selection import RandomizedSearchCV\n",
    "from sklearn.ensemble import RandomForestClassifier"
   ]
  },
  {
   "cell_type": "code",
   "execution_count": 8,
   "metadata": {},
   "outputs": [],
   "source": [
    "# use a full grid over all parameters\n",
    "param_grid = {\"max_depth\": [None],\n",
    "              \"max_features\": [3],\n",
    "              \"min_samples_split\": [10],\n",
    "              \"min_samples_leaf\": [1],\n",
    "              \"bootstrap\": [False],\n",
    "              \"criterion\": [\"gini\"]}"
   ]
  },
  {
   "cell_type": "code",
   "execution_count": 9,
   "metadata": {},
   "outputs": [],
   "source": [
    "# Utility function to report best scores\n",
    "def report(results, n_top=1):\n",
    "    for i in range(1, n_top + 1):\n",
    "        candidates = np.flatnonzero(results['rank_test_score'] == i)\n",
    "        for candidate in candidates:\n",
    "            print(\"Model with rank: {0}\".format(i))\n",
    "            print(\"Mean validation score: {0:.3f} (std: {1:.3f})\".format(\n",
    "                  results['mean_test_score'][candidate],\n",
    "                  results['std_test_score'][candidate]))\n",
    "            print(\"Parameters: {0}\".format(results['params'][candidate]))\n",
    "            print(\"\")"
   ]
  },
  {
   "cell_type": "code",
   "execution_count": 10,
   "metadata": {},
   "outputs": [
    {
     "name": "stdout",
     "output_type": "stream",
     "text": [
      "GridSearchCV took 363.66 seconds for 1 candidate parameter settings.\n",
      "Model with rank: 1\n",
      "Mean validation score: 0.822 (std: 0.000)\n",
      "Parameters: {'bootstrap': False, 'criterion': 'gini', 'max_depth': None, 'max_features': 3, 'min_samples_leaf': 1, 'min_samples_split': 10}\n",
      "\n"
     ]
    }
   ],
   "source": [
    "clf = RandomForestClassifier(n_estimators=20, n_jobs=-1)\n",
    "\n",
    "\n",
    "# run grid search\n",
    "grid_search = GridSearchCV(clf, param_grid=param_grid)\n",
    "start = time()\n",
    "grid_search.fit(X_train, y_train.values.ravel())\n",
    "\n",
    "print(\"GridSearchCV took %.2f seconds for %d candidate parameter settings.\"\n",
    "      % (time() - start, len(grid_search.cv_results_['params'])))\n",
    "report(grid_search.cv_results_)"
   ]
  },
  {
   "cell_type": "code",
   "execution_count": 11,
   "metadata": {},
   "outputs": [
    {
     "data": {
      "text/plain": [
       "RandomForestClassifier(bootstrap=True, class_weight=None, criterion='gini',\n",
       "            max_depth=None, max_features='auto', max_leaf_nodes=None,\n",
       "            min_impurity_decrease=0.0, min_impurity_split=None,\n",
       "            min_samples_leaf=1, min_samples_split=2,\n",
       "            min_weight_fraction_leaf=0.0, n_estimators=20, n_jobs=-1,\n",
       "            oob_score=False, random_state=None, verbose=0,\n",
       "            warm_start=False)"
      ]
     },
     "execution_count": 11,
     "metadata": {},
     "output_type": "execute_result"
    }
   ],
   "source": [
    "clf.fit(X_train, y_train.values.ravel())"
   ]
  },
  {
   "cell_type": "code",
   "execution_count": 12,
   "metadata": {},
   "outputs": [
    {
     "ename": "AttributeError",
     "evalue": "'RandomForestClassifier' object has no attribute 'fit_transform'",
     "output_type": "error",
     "traceback": [
      "\u001b[0;31m---------------------------------------------------------------------------\u001b[0m",
      "\u001b[0;31mAttributeError\u001b[0m                            Traceback (most recent call last)",
      "\u001b[0;32m<ipython-input-12-81b38c4c387a>\u001b[0m in \u001b[0;36m<module>\u001b[0;34m()\u001b[0m\n\u001b[0;32m----> 1\u001b[0;31m \u001b[0mclf\u001b[0m\u001b[0;34m.\u001b[0m\u001b[0mfit_transform\u001b[0m\u001b[0;34m(\u001b[0m\u001b[0mX_train\u001b[0m\u001b[0;34m,\u001b[0m \u001b[0my_train\u001b[0m\u001b[0;34m.\u001b[0m\u001b[0mvalues\u001b[0m\u001b[0;34m.\u001b[0m\u001b[0mravel\u001b[0m\u001b[0;34m(\u001b[0m\u001b[0;34m)\u001b[0m\u001b[0;34m)\u001b[0m\u001b[0;34m\u001b[0m\u001b[0m\n\u001b[0m",
      "\u001b[0;31mAttributeError\u001b[0m: 'RandomForestClassifier' object has no attribute 'fit_transform'"
     ]
    }
   ],
   "source": [
    "clf.fit_transform(X_train, y_train.values.ravel())"
   ]
  },
  {
   "cell_type": "code",
   "execution_count": 14,
   "metadata": {},
   "outputs": [
    {
     "data": {
      "text/plain": [
       "RandomForestClassifier(bootstrap=True, class_weight=None, criterion='gini',\n",
       "            max_depth=None, max_features='auto', max_leaf_nodes=None,\n",
       "            min_impurity_decrease=0.0, min_impurity_split=None,\n",
       "            min_samples_leaf=1, min_samples_split=2,\n",
       "            min_weight_fraction_leaf=0.0, n_estimators=20, n_jobs=-1,\n",
       "            oob_score=False, random_state=None, verbose=0,\n",
       "            warm_start=False)"
      ]
     },
     "execution_count": 14,
     "metadata": {},
     "output_type": "execute_result"
    }
   ],
   "source": [
    "clf"
   ]
  }
 ],
 "metadata": {
  "kernelspec": {
   "display_name": "Python 3",
   "language": "python",
   "name": "python3"
  },
  "language_info": {
   "codemirror_mode": {
    "name": "ipython",
    "version": 3
   },
   "file_extension": ".py",
   "mimetype": "text/x-python",
   "name": "python",
   "nbconvert_exporter": "python",
   "pygments_lexer": "ipython3",
   "version": "3.6.4"
  }
 },
 "nbformat": 4,
 "nbformat_minor": 2
}
