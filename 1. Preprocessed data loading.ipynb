{
 "cells": [
  {
   "cell_type": "markdown",
   "metadata": {},
   "source": [
    "# Dataframe creation\n",
    "\n",
    "    In this notebook all data that we need stored in one file.\n",
    "    In this case, \"IMPORTING_COLUMNS\" is the columns that we need to the our model\n",
    "    \n",
    "    Next we clean data, and save with pandas dropna and to_csv methods"
   ]
  },
  {
   "cell_type": "code",
   "execution_count": 1,
   "metadata": {},
   "outputs": [],
   "source": [
    "import pandas as pd\n",
    "import glob\n",
    "import gc"
   ]
  },
  {
   "cell_type": "code",
   "execution_count": 2,
   "metadata": {},
   "outputs": [],
   "source": [
    "# Specify what folders do we need\n",
    "INPUT_FOLDER      = './data_preprocessed2/'\n",
    "IMPORTING_COLUMNS = ['velocity', 'acceleration', 'trajectory_id', 'subfolder',\n",
    "                     'labels', 'v_ave', 'v_med', 'v_max', 'v_std', 'a_ave', 'a_med', 'a_max', 'a_std']"
   ]
  },
  {
   "cell_type": "code",
   "execution_count": 5,
   "metadata": {},
   "outputs": [
    {
     "name": "stderr",
     "output_type": "stream",
     "text": [
      "/home/xyz/Program/miniconda3/envs/ml/lib/python3.6/site-packages/IPython/core/interactiveshell.py:2728: DtypeWarning: Columns (11) have mixed types. Specify dtype option on import or set low_memory=False.\n",
      "  interactivity=interactivity, compiler=compiler, result=result)\n"
     ]
    },
    {
     "data": {
      "text/html": [
       "<div>\n",
       "<style scoped>\n",
       "    .dataframe tbody tr th:only-of-type {\n",
       "        vertical-align: middle;\n",
       "    }\n",
       "\n",
       "    .dataframe tbody tr th {\n",
       "        vertical-align: top;\n",
       "    }\n",
       "\n",
       "    .dataframe thead th {\n",
       "        text-align: right;\n",
       "    }\n",
       "</style>\n",
       "<table border=\"1\" class=\"dataframe\">\n",
       "  <thead>\n",
       "    <tr style=\"text-align: right;\">\n",
       "      <th></th>\n",
       "      <th>velocity</th>\n",
       "      <th>acceleration</th>\n",
       "      <th>trajectory_id</th>\n",
       "      <th>subfolder</th>\n",
       "      <th>labels</th>\n",
       "      <th>v_ave</th>\n",
       "      <th>v_med</th>\n",
       "      <th>v_max</th>\n",
       "      <th>v_std</th>\n",
       "      <th>a_ave</th>\n",
       "      <th>a_med</th>\n",
       "      <th>a_max</th>\n",
       "      <th>a_std</th>\n",
       "    </tr>\n",
       "  </thead>\n",
       "  <tbody>\n",
       "    <tr>\n",
       "      <th>0</th>\n",
       "      <td>2.990467</td>\n",
       "      <td>-1.126716</td>\n",
       "      <td>20090312003145</td>\n",
       "      <td>38</td>\n",
       "      <td>NaN</td>\n",
       "      <td>3.26967</td>\n",
       "      <td>3.151913</td>\n",
       "      <td>60.043321</td>\n",
       "      <td>3.130602</td>\n",
       "      <td>0.01188</td>\n",
       "      <td>0.0</td>\n",
       "      <td>29.74198</td>\n",
       "      <td>1.537051</td>\n",
       "    </tr>\n",
       "    <tr>\n",
       "      <th>1</th>\n",
       "      <td>1.863751</td>\n",
       "      <td>-0.317228</td>\n",
       "      <td>20090312003145</td>\n",
       "      <td>38</td>\n",
       "      <td>NaN</td>\n",
       "      <td>3.26967</td>\n",
       "      <td>3.151913</td>\n",
       "      <td>60.043321</td>\n",
       "      <td>3.130602</td>\n",
       "      <td>0.01188</td>\n",
       "      <td>0.0</td>\n",
       "      <td>29.74198</td>\n",
       "      <td>1.537051</td>\n",
       "    </tr>\n",
       "    <tr>\n",
       "      <th>2</th>\n",
       "      <td>0.594837</td>\n",
       "      <td>0.074268</td>\n",
       "      <td>20090312003145</td>\n",
       "      <td>38</td>\n",
       "      <td>NaN</td>\n",
       "      <td>3.26967</td>\n",
       "      <td>3.151913</td>\n",
       "      <td>60.043321</td>\n",
       "      <td>3.130602</td>\n",
       "      <td>0.01188</td>\n",
       "      <td>0.0</td>\n",
       "      <td>29.74198</td>\n",
       "      <td>1.537051</td>\n",
       "    </tr>\n",
       "    <tr>\n",
       "      <th>3</th>\n",
       "      <td>0.891910</td>\n",
       "      <td>-0.115807</td>\n",
       "      <td>20090312003145</td>\n",
       "      <td>38</td>\n",
       "      <td>NaN</td>\n",
       "      <td>3.26967</td>\n",
       "      <td>3.151913</td>\n",
       "      <td>60.043321</td>\n",
       "      <td>3.130602</td>\n",
       "      <td>0.01188</td>\n",
       "      <td>0.0</td>\n",
       "      <td>29.74198</td>\n",
       "      <td>1.537051</td>\n",
       "    </tr>\n",
       "    <tr>\n",
       "      <th>4</th>\n",
       "      <td>0.081261</td>\n",
       "      <td>0.000762</td>\n",
       "      <td>20090312003145</td>\n",
       "      <td>38</td>\n",
       "      <td>NaN</td>\n",
       "      <td>3.26967</td>\n",
       "      <td>3.151913</td>\n",
       "      <td>60.043321</td>\n",
       "      <td>3.130602</td>\n",
       "      <td>0.01188</td>\n",
       "      <td>0.0</td>\n",
       "      <td>29.74198</td>\n",
       "      <td>1.537051</td>\n",
       "    </tr>\n",
       "  </tbody>\n",
       "</table>\n",
       "</div>"
      ],
      "text/plain": [
       "   velocity  acceleration   trajectory_id  subfolder labels    v_ave  \\\n",
       "0  2.990467     -1.126716  20090312003145         38    NaN  3.26967   \n",
       "1  1.863751     -0.317228  20090312003145         38    NaN  3.26967   \n",
       "2  0.594837      0.074268  20090312003145         38    NaN  3.26967   \n",
       "3  0.891910     -0.115807  20090312003145         38    NaN  3.26967   \n",
       "4  0.081261      0.000762  20090312003145         38    NaN  3.26967   \n",
       "\n",
       "      v_med      v_max     v_std    a_ave  a_med     a_max     a_std  \n",
       "0  3.151913  60.043321  3.130602  0.01188    0.0  29.74198  1.537051  \n",
       "1  3.151913  60.043321  3.130602  0.01188    0.0  29.74198  1.537051  \n",
       "2  3.151913  60.043321  3.130602  0.01188    0.0  29.74198  1.537051  \n",
       "3  3.151913  60.043321  3.130602  0.01188    0.0  29.74198  1.537051  \n",
       "4  3.151913  60.043321  3.130602  0.01188    0.0  29.74198  1.537051  "
      ]
     },
     "execution_count": 5,
     "metadata": {},
     "output_type": "execute_result"
    }
   ],
   "source": [
    "list_df_metadata = []\n",
    "\n",
    "# Find all files that ends with .csv, read and append to the list_df_metadata\n",
    "for filename in glob.glob(INPUT_FOLDER + '*.csv'):\n",
    "    df_data = pd.read_csv(filename, usecols=IMPORTING_COLUMNS)\n",
    "    list_df_metadata.append(df_data)\n",
    "    \n",
    "df_metadata = pd.concat(list_df_metadata)\n",
    "df_metadata.head()"
   ]
  },
  {
   "cell_type": "code",
   "execution_count": 6,
   "metadata": {},
   "outputs": [
    {
     "name": "stdout",
     "output_type": "stream",
     "text": [
      "Before shape:  (24876978, 13)\n",
      "After shape:  (4699328, 13)\n"
     ]
    }
   ],
   "source": [
    "# Drop Nan values\n",
    "print('Before shape: ', df_metadata.shape)\n",
    "\n",
    "df_cleaned = df_metadata.dropna()\n",
    "\n",
    "print('After shape: ', df_cleaned.shape)"
   ]
  },
  {
   "cell_type": "code",
   "execution_count": 7,
   "metadata": {},
   "outputs": [
    {
     "data": {
      "text/html": [
       "<div>\n",
       "<style scoped>\n",
       "    .dataframe tbody tr th:only-of-type {\n",
       "        vertical-align: middle;\n",
       "    }\n",
       "\n",
       "    .dataframe tbody tr th {\n",
       "        vertical-align: top;\n",
       "    }\n",
       "\n",
       "    .dataframe thead th {\n",
       "        text-align: right;\n",
       "    }\n",
       "</style>\n",
       "<table border=\"1\" class=\"dataframe\">\n",
       "  <thead>\n",
       "    <tr style=\"text-align: right;\">\n",
       "      <th></th>\n",
       "      <th>velocity</th>\n",
       "      <th>acceleration</th>\n",
       "      <th>trajectory_id</th>\n",
       "      <th>subfolder</th>\n",
       "      <th>labels</th>\n",
       "      <th>v_ave</th>\n",
       "      <th>v_med</th>\n",
       "      <th>v_max</th>\n",
       "      <th>v_std</th>\n",
       "      <th>a_ave</th>\n",
       "      <th>a_med</th>\n",
       "      <th>a_max</th>\n",
       "      <th>a_std</th>\n",
       "    </tr>\n",
       "  </thead>\n",
       "  <tbody>\n",
       "    <tr>\n",
       "      <th>0</th>\n",
       "      <td>16.108078</td>\n",
       "      <td>-0.588742</td>\n",
       "      <td>20080509043509</td>\n",
       "      <td>89</td>\n",
       "      <td>car</td>\n",
       "      <td>8.79689</td>\n",
       "      <td>8.688512</td>\n",
       "      <td>21.7058</td>\n",
       "      <td>5.419097</td>\n",
       "      <td>-0.031366</td>\n",
       "      <td>-0.032979</td>\n",
       "      <td>1.211086</td>\n",
       "      <td>0.426994</td>\n",
       "    </tr>\n",
       "    <tr>\n",
       "      <th>1</th>\n",
       "      <td>15.519336</td>\n",
       "      <td>-0.419958</td>\n",
       "      <td>20080509043509</td>\n",
       "      <td>89</td>\n",
       "      <td>car</td>\n",
       "      <td>8.79689</td>\n",
       "      <td>8.688512</td>\n",
       "      <td>21.7058</td>\n",
       "      <td>5.419097</td>\n",
       "      <td>-0.031366</td>\n",
       "      <td>-0.032979</td>\n",
       "      <td>1.211086</td>\n",
       "      <td>0.426994</td>\n",
       "    </tr>\n",
       "    <tr>\n",
       "      <th>2</th>\n",
       "      <td>14.679420</td>\n",
       "      <td>-0.007034</td>\n",
       "      <td>20080509043509</td>\n",
       "      <td>89</td>\n",
       "      <td>car</td>\n",
       "      <td>8.79689</td>\n",
       "      <td>8.688512</td>\n",
       "      <td>21.7058</td>\n",
       "      <td>5.419097</td>\n",
       "      <td>-0.031366</td>\n",
       "      <td>-0.032979</td>\n",
       "      <td>1.211086</td>\n",
       "      <td>0.426994</td>\n",
       "    </tr>\n",
       "    <tr>\n",
       "      <th>3</th>\n",
       "      <td>14.665352</td>\n",
       "      <td>0.320263</td>\n",
       "      <td>20080509043509</td>\n",
       "      <td>89</td>\n",
       "      <td>car</td>\n",
       "      <td>8.79689</td>\n",
       "      <td>8.688512</td>\n",
       "      <td>21.7058</td>\n",
       "      <td>5.419097</td>\n",
       "      <td>-0.031366</td>\n",
       "      <td>-0.032979</td>\n",
       "      <td>1.211086</td>\n",
       "      <td>0.426994</td>\n",
       "    </tr>\n",
       "    <tr>\n",
       "      <th>4</th>\n",
       "      <td>15.305877</td>\n",
       "      <td>0.604292</td>\n",
       "      <td>20080509043509</td>\n",
       "      <td>89</td>\n",
       "      <td>car</td>\n",
       "      <td>8.79689</td>\n",
       "      <td>8.688512</td>\n",
       "      <td>21.7058</td>\n",
       "      <td>5.419097</td>\n",
       "      <td>-0.031366</td>\n",
       "      <td>-0.032979</td>\n",
       "      <td>1.211086</td>\n",
       "      <td>0.426994</td>\n",
       "    </tr>\n",
       "  </tbody>\n",
       "</table>\n",
       "</div>"
      ],
      "text/plain": [
       "    velocity  acceleration   trajectory_id  subfolder labels    v_ave  \\\n",
       "0  16.108078     -0.588742  20080509043509         89    car  8.79689   \n",
       "1  15.519336     -0.419958  20080509043509         89    car  8.79689   \n",
       "2  14.679420     -0.007034  20080509043509         89    car  8.79689   \n",
       "3  14.665352      0.320263  20080509043509         89    car  8.79689   \n",
       "4  15.305877      0.604292  20080509043509         89    car  8.79689   \n",
       "\n",
       "      v_med    v_max     v_std     a_ave     a_med     a_max     a_std  \n",
       "0  8.688512  21.7058  5.419097 -0.031366 -0.032979  1.211086  0.426994  \n",
       "1  8.688512  21.7058  5.419097 -0.031366 -0.032979  1.211086  0.426994  \n",
       "2  8.688512  21.7058  5.419097 -0.031366 -0.032979  1.211086  0.426994  \n",
       "3  8.688512  21.7058  5.419097 -0.031366 -0.032979  1.211086  0.426994  \n",
       "4  8.688512  21.7058  5.419097 -0.031366 -0.032979  1.211086  0.426994  "
      ]
     },
     "execution_count": 7,
     "metadata": {},
     "output_type": "execute_result"
    }
   ],
   "source": [
    "df_cleaned.head()"
   ]
  },
  {
   "cell_type": "code",
   "execution_count": 8,
   "metadata": {},
   "outputs": [
    {
     "data": {
      "text/plain": [
       "array(['car', 'walk', 'bus', 'bike', 'taxi', 'airplane', 'subway',\n",
       "       'train', 'run', 'boat', 'motorcycle'], dtype=object)"
      ]
     },
     "execution_count": 8,
     "metadata": {},
     "output_type": "execute_result"
    }
   ],
   "source": [
    "# Show all available unique labels\n",
    "df_cleaned['labels'].unique()"
   ]
  },
  {
   "cell_type": "code",
   "execution_count": 11,
   "metadata": {},
   "outputs": [],
   "source": [
    "df_cleaned.to_csv('total2.csv')"
   ]
  },
  {
   "cell_type": "code",
   "execution_count": null,
   "metadata": {},
   "outputs": [],
   "source": []
  },
  {
   "cell_type": "code",
   "execution_count": null,
   "metadata": {},
   "outputs": [],
   "source": []
  },
  {
   "cell_type": "code",
   "execution_count": null,
   "metadata": {},
   "outputs": [],
   "source": []
  },
  {
   "cell_type": "code",
   "execution_count": null,
   "metadata": {},
   "outputs": [],
   "source": []
  },
  {
   "cell_type": "code",
   "execution_count": null,
   "metadata": {},
   "outputs": [],
   "source": []
  },
  {
   "cell_type": "code",
   "execution_count": null,
   "metadata": {},
   "outputs": [],
   "source": []
  }
 ],
 "metadata": {
  "kernelspec": {
   "display_name": "Python 3",
   "language": "python",
   "name": "python3"
  },
  "language_info": {
   "codemirror_mode": {
    "name": "ipython",
    "version": 3
   },
   "file_extension": ".py",
   "mimetype": "text/x-python",
   "name": "python",
   "nbconvert_exporter": "python",
   "pygments_lexer": "ipython3",
   "version": "3.6.4"
  }
 },
 "nbformat": 4,
 "nbformat_minor": 2
}
