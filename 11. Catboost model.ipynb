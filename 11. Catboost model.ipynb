{
 "cells": [
  {
   "cell_type": "markdown",
   "metadata": {},
   "source": [
    "# Load dataset"
   ]
  },
  {
   "cell_type": "code",
   "execution_count": 1,
   "metadata": {},
   "outputs": [
    {
     "name": "stderr",
     "output_type": "stream",
     "text": [
      "/home/zh.shakenov/miniconda3/envs/disser/lib/python3.6/site-packages/IPython/core/interactiveshell.py:2785: DtypeWarning: Columns (11) have mixed types. Specify dtype option on import or set low_memory=False.\n",
      "  interactivity=interactivity, compiler=compiler, result=result)\n"
     ]
    },
    {
     "data": {
      "text/html": [
       "<div>\n",
       "<style scoped>\n",
       "    .dataframe tbody tr th:only-of-type {\n",
       "        vertical-align: middle;\n",
       "    }\n",
       "\n",
       "    .dataframe tbody tr th {\n",
       "        vertical-align: top;\n",
       "    }\n",
       "\n",
       "    .dataframe thead th {\n",
       "        text-align: right;\n",
       "    }\n",
       "</style>\n",
       "<table border=\"1\" class=\"dataframe\">\n",
       "  <thead>\n",
       "    <tr style=\"text-align: right;\">\n",
       "      <th></th>\n",
       "      <th>lat</th>\n",
       "      <th>long</th>\n",
       "      <th>altitude</th>\n",
       "      <th>datetime</th>\n",
       "      <th>timedelta</th>\n",
       "      <th>distance</th>\n",
       "      <th>velocity</th>\n",
       "      <th>acceleration</th>\n",
       "      <th>trajectory_id</th>\n",
       "      <th>subfolder</th>\n",
       "      <th>...</th>\n",
       "      <th>a_ave</th>\n",
       "      <th>a_med</th>\n",
       "      <th>a_max</th>\n",
       "      <th>a_min</th>\n",
       "      <th>a_std</th>\n",
       "      <th>a_rol</th>\n",
       "      <th>a_rsd</th>\n",
       "      <th>a_qu1</th>\n",
       "      <th>a_qu2</th>\n",
       "      <th>a_qu3</th>\n",
       "    </tr>\n",
       "  </thead>\n",
       "  <tbody>\n",
       "    <tr>\n",
       "      <th>0</th>\n",
       "      <td>40.061035</td>\n",
       "      <td>116.407049</td>\n",
       "      <td>64.0</td>\n",
       "      <td>2011-05-29 22:30:19</td>\n",
       "      <td>0 days 00:00:01.000000000</td>\n",
       "      <td>13.357307</td>\n",
       "      <td>13.357307</td>\n",
       "      <td>-0.810261</td>\n",
       "      <td>20110529222904</td>\n",
       "      <td>168</td>\n",
       "      <td>...</td>\n",
       "      <td>-0.029584</td>\n",
       "      <td>0.0</td>\n",
       "      <td>8.873882</td>\n",
       "      <td>-14.649245</td>\n",
       "      <td>0.731106</td>\n",
       "      <td>-0.193232</td>\n",
       "      <td>3.278783</td>\n",
       "      <td>-0.531929</td>\n",
       "      <td>0.024086</td>\n",
       "      <td>0.678226</td>\n",
       "    </tr>\n",
       "    <tr>\n",
       "      <th>1</th>\n",
       "      <td>40.060915</td>\n",
       "      <td>116.407060</td>\n",
       "      <td>65.0</td>\n",
       "      <td>2011-05-29 22:30:20</td>\n",
       "      <td>0 days 00:00:01.000000000</td>\n",
       "      <td>12.547046</td>\n",
       "      <td>12.547046</td>\n",
       "      <td>0.810261</td>\n",
       "      <td>20110529222904</td>\n",
       "      <td>168</td>\n",
       "      <td>...</td>\n",
       "      <td>-0.029584</td>\n",
       "      <td>0.0</td>\n",
       "      <td>8.873882</td>\n",
       "      <td>-14.649245</td>\n",
       "      <td>0.731106</td>\n",
       "      <td>-0.107458</td>\n",
       "      <td>3.269948</td>\n",
       "      <td>-0.333394</td>\n",
       "      <td>0.050601</td>\n",
       "      <td>0.784147</td>\n",
       "    </tr>\n",
       "    <tr>\n",
       "      <th>2</th>\n",
       "      <td>40.060802</td>\n",
       "      <td>116.407060</td>\n",
       "      <td>63.0</td>\n",
       "      <td>2011-05-29 22:30:21</td>\n",
       "      <td>0 days 00:00:01.000000000</td>\n",
       "      <td>13.357307</td>\n",
       "      <td>13.357307</td>\n",
       "      <td>-0.634696</td>\n",
       "      <td>20110529222904</td>\n",
       "      <td>168</td>\n",
       "      <td>...</td>\n",
       "      <td>-0.029584</td>\n",
       "      <td>0.0</td>\n",
       "      <td>8.873882</td>\n",
       "      <td>-14.649245</td>\n",
       "      <td>0.731106</td>\n",
       "      <td>-0.118051</td>\n",
       "      <td>3.271165</td>\n",
       "      <td>-0.531929</td>\n",
       "      <td>0.050601</td>\n",
       "      <td>0.784147</td>\n",
       "    </tr>\n",
       "    <tr>\n",
       "      <th>3</th>\n",
       "      <td>40.060682</td>\n",
       "      <td>116.407071</td>\n",
       "      <td>63.0</td>\n",
       "      <td>2011-05-29 22:30:22</td>\n",
       "      <td>0 days 00:00:01.000000000</td>\n",
       "      <td>12.722611</td>\n",
       "      <td>12.722611</td>\n",
       "      <td>-1.113277</td>\n",
       "      <td>20110529222904</td>\n",
       "      <td>168</td>\n",
       "      <td>...</td>\n",
       "      <td>-0.029584</td>\n",
       "      <td>0.0</td>\n",
       "      <td>8.873882</td>\n",
       "      <td>-14.649245</td>\n",
       "      <td>0.731106</td>\n",
       "      <td>-0.118465</td>\n",
       "      <td>3.271294</td>\n",
       "      <td>-0.531929</td>\n",
       "      <td>0.050601</td>\n",
       "      <td>0.784147</td>\n",
       "    </tr>\n",
       "    <tr>\n",
       "      <th>4</th>\n",
       "      <td>40.060568</td>\n",
       "      <td>116.407086</td>\n",
       "      <td>62.0</td>\n",
       "      <td>2011-05-29 22:30:23</td>\n",
       "      <td>0 days 00:00:01.000000000</td>\n",
       "      <td>11.609334</td>\n",
       "      <td>11.609334</td>\n",
       "      <td>-1.358473</td>\n",
       "      <td>20110529222904</td>\n",
       "      <td>168</td>\n",
       "      <td>...</td>\n",
       "      <td>-0.029584</td>\n",
       "      <td>0.0</td>\n",
       "      <td>8.873882</td>\n",
       "      <td>-14.649245</td>\n",
       "      <td>0.731106</td>\n",
       "      <td>-0.152541</td>\n",
       "      <td>3.278956</td>\n",
       "      <td>-0.618968</td>\n",
       "      <td>0.050601</td>\n",
       "      <td>0.784147</td>\n",
       "    </tr>\n",
       "  </tbody>\n",
       "</table>\n",
       "<p>5 rows × 31 columns</p>\n",
       "</div>"
      ],
      "text/plain": [
       "         lat        long  altitude             datetime  \\\n",
       "0  40.061035  116.407049      64.0  2011-05-29 22:30:19   \n",
       "1  40.060915  116.407060      65.0  2011-05-29 22:30:20   \n",
       "2  40.060802  116.407060      63.0  2011-05-29 22:30:21   \n",
       "3  40.060682  116.407071      63.0  2011-05-29 22:30:22   \n",
       "4  40.060568  116.407086      62.0  2011-05-29 22:30:23   \n",
       "\n",
       "                   timedelta   distance   velocity  acceleration  \\\n",
       "0  0 days 00:00:01.000000000  13.357307  13.357307     -0.810261   \n",
       "1  0 days 00:00:01.000000000  12.547046  12.547046      0.810261   \n",
       "2  0 days 00:00:01.000000000  13.357307  13.357307     -0.634696   \n",
       "3  0 days 00:00:01.000000000  12.722611  12.722611     -1.113277   \n",
       "4  0 days 00:00:01.000000000  11.609334  11.609334     -1.358473   \n",
       "\n",
       "    trajectory_id subfolder    ...        a_ave  a_med     a_max      a_min  \\\n",
       "0  20110529222904       168    ...    -0.029584    0.0  8.873882 -14.649245   \n",
       "1  20110529222904       168    ...    -0.029584    0.0  8.873882 -14.649245   \n",
       "2  20110529222904       168    ...    -0.029584    0.0  8.873882 -14.649245   \n",
       "3  20110529222904       168    ...    -0.029584    0.0  8.873882 -14.649245   \n",
       "4  20110529222904       168    ...    -0.029584    0.0  8.873882 -14.649245   \n",
       "\n",
       "      a_std     a_rol     a_rsd     a_qu1     a_qu2     a_qu3  \n",
       "0  0.731106 -0.193232  3.278783 -0.531929  0.024086  0.678226  \n",
       "1  0.731106 -0.107458  3.269948 -0.333394  0.050601  0.784147  \n",
       "2  0.731106 -0.118051  3.271165 -0.531929  0.050601  0.784147  \n",
       "3  0.731106 -0.118465  3.271294 -0.531929  0.050601  0.784147  \n",
       "4  0.731106 -0.152541  3.278956 -0.618968  0.050601  0.784147  \n",
       "\n",
       "[5 rows x 31 columns]"
      ]
     },
     "execution_count": 1,
     "metadata": {},
     "output_type": "execute_result"
    }
   ],
   "source": [
    "import glob\n",
    "import pandas as pd \n",
    "\n",
    "# Specify what folders do we need\n",
    "INPUT_FOLDER      = './data_preprocessed4/'\n",
    "\n",
    "list_df_metadata = []\n",
    "\n",
    "# Find all files that ends with .csv, read and append to the list_df_metadata\n",
    "for filename in glob.glob(INPUT_FOLDER + '*.csv'):\n",
    "    df_data = pd.read_csv(filename)\n",
    "    list_df_metadata.append(df_data)\n",
    "    \n",
    "df_metadata = pd.concat(list_df_metadata)\n",
    "df_metadata = df_metadata.drop(['Unnamed: 0'], axis=1)\n",
    "df_metadata = df_metadata.reset_index(drop=True)\n",
    "df_metadata.head()"
   ]
  },
  {
   "cell_type": "markdown",
   "metadata": {},
   "source": [
    "# Preprocessing\n",
    "\n",
    "## 1. Drop nan values\n",
    "As our main goal is predict labels, all irrelevant `nan` values would be dropped \n",
    "\n",
    "## 2. Drop all outliers\n",
    "Due the processing that we had, there are some outliers in dataset, that can produce messy data"
   ]
  },
  {
   "cell_type": "code",
   "execution_count": 11,
   "metadata": {},
   "outputs": [
    {
     "name": "stdout",
     "output_type": "stream",
     "text": [
      "Sample size before:  23380 k\n",
      "Sample size after:   4583 k\n"
     ]
    }
   ],
   "source": [
    "# 1. Drop nan values\n",
    "\n",
    "print('Sample size before: ', len(df_metadata) // 1000, 'k')\n",
    "df = df_metadata.dropna()\n",
    "print('Sample size after:  ', len(df) // 1000 , 'k')"
   ]
  },
  {
   "cell_type": "code",
   "execution_count": 18,
   "metadata": {},
   "outputs": [
    {
     "data": {
      "text/plain": [
       "labels\n",
       "airplane       4\n",
       "bike          31\n",
       "boat           4\n",
       "bus           41\n",
       "car           35\n",
       "motorcycle     2\n",
       "run            3\n",
       "subway        23\n",
       "taxi          28\n",
       "train         16\n",
       "walk          57\n",
       "Name: subfolder, dtype: int64"
      ]
     },
     "execution_count": 18,
     "metadata": {},
     "output_type": "execute_result"
    }
   ],
   "source": [
    "# How much drivers have data on some labels\n",
    "# as we see that not all labels got variety of data source \n",
    "df.groupby('labels')['subfolder'].nunique()"
   ]
  },
  {
   "cell_type": "code",
   "execution_count": 24,
   "metadata": {},
   "outputs": [],
   "source": [
    "# 2. Show some outliers\n",
    "import numpy as np\n",
    "import seaborn as sns\n",
    "import matplotlib.pyplot as plt\n",
    "sns.set(style=\"ticks\")\n",
    "%matplotlib inline\n",
    "\n",
    "def show_boxes_plot(x, y, data):\n",
    "    fig, ax = plt.subplots()\n",
    "    fig.set_size_inches(11.7, 8.27)\n",
    "\n",
    "    sns.boxplot(x=x, y=y, data=data,\n",
    "               whis=np.inf, palette=\"vlag\", ax=ax)\n",
    "    sns.despine(trim=True, left=True)\n",
    "    plt.show()"
   ]
  },
  {
   "cell_type": "code",
   "execution_count": 26,
   "metadata": {},
   "outputs": [
    {
     "data": {
      "image/png": "[encoded data removed]",
      "text/plain": [
       "<Figure size 842.4x595.44 with 1 Axes>"
      ]
     },
     "metadata": {},
     "output_type": "display_data"
    }
   ],
   "source": [
    "show_boxes_plot(x=\"labels\", y=\"velocity\", data=df)"
   ]
  },
  {
   "cell_type": "code",
   "execution_count": 105,
   "metadata": {},
   "outputs": [
    {
     "name": "stdout",
     "output_type": "stream",
     "text": [
      "Filter for  velocity : 0.0\n",
      "Filter for  velocity : 11.150887909855143\n"
     ]
    },
    {
     "data": {
      "text/plain": [
       "(0.0, 11.150887909855143)"
      ]
     },
     "execution_count": 105,
     "metadata": {},
     "output_type": "execute_result"
    }
   ],
   "source": [
    "# Filter data by quantiles\n",
    "def get_filter(data, mode, column):\n",
    "    lower = data[data['labels'] == mode][column].quantile(q=0.01)\n",
    "    upper = data[data['labels'] == mode][column].quantile(q=0.99)\n",
    "    \n",
    "    print('Filter for ', column, ':', lower)\n",
    "    print('Filter for ', column, ':', upper)\n",
    "    return lower, upper\n",
    "\n",
    "get_filter(df, 'walk', 'velocity')"
   ]
  },
  {
   "cell_type": "code",
   "execution_count": 106,
   "metadata": {},
   "outputs": [],
   "source": [
    "# Personal filters on mode \n",
    "\n",
    "def filterdata(data, modes, columns):\n",
    "    for mode in modes:\n",
    "        for column in columns:\n",
    "            print(mode, column)\n",
    "            lo, up = get_filter(data, mode, column)\n",
    "            data = data[(data[column] > lo) & (data[column] < up)]\n",
    "    return data"
   ]
  },
  {
   "cell_type": "code",
   "execution_count": 107,
   "metadata": {},
   "outputs": [],
   "source": [
    "labels = list(df['labels'].unique())\n",
    "labels.remove('motorcycle')\n",
    "labels.remove('run')\n",
    "labels.remove('boat')\n",
    "labels.remove('airplane')\n",
    "labels.remove('subway')"
   ]
  },
  {
   "cell_type": "code",
   "execution_count": 108,
   "metadata": {},
   "outputs": [
    {
     "name": "stderr",
     "output_type": "stream",
     "text": [
      "/home/zh.shakenov/miniconda3/envs/disser/lib/python3.6/site-packages/ipykernel_launcher.py:5: SettingWithCopyWarning: \n",
      "A value is trying to be set on a copy of a slice from a DataFrame.\n",
      "Try using .loc[row_indexer,col_indexer] = value instead\n",
      "\n",
      "See the caveats in the documentation: http://pandas.pydata.org/pandas-docs/stable/indexing.html#indexing-view-versus-copy\n",
      "  \"\"\"\n"
     ]
    }
   ],
   "source": [
    "\n",
    "mindataset = df[df['labels'].isin(labels)]\n",
    "map_min = {'airplane': 'airplane', 'bike': 'bike', 'subway': 'subway', 'train': 'train', 'run': 'run',\n",
    "           'walk': 'walk', 'boat': 'boat', 'bus': 'vehicle', 'car': 'vehicle', 'taxi': 'vehicle'}\n",
    "mindataset['labels'] = mindataset['labels'].apply(lambda x: map_min[x])"
   ]
  },
  {
   "cell_type": "code",
   "execution_count": 109,
   "metadata": {},
   "outputs": [
    {
     "name": "stdout",
     "output_type": "stream",
     "text": [
      "Sample size after:   4334 k\n"
     ]
    }
   ],
   "source": [
    "print('Sample size after:  ', len(mindataset) // 1000 , 'k')"
   ]
  },
  {
   "cell_type": "code",
   "execution_count": 110,
   "metadata": {},
   "outputs": [
    {
     "data": {
      "text/plain": [
       "array(['walk', 'vehicle', 'bike', 'train'], dtype=object)"
      ]
     },
     "execution_count": 110,
     "metadata": {},
     "output_type": "execute_result"
    }
   ],
   "source": [
    "mindataset['labels'].unique()"
   ]
  },
  {
   "cell_type": "code",
   "execution_count": 111,
   "metadata": {},
   "outputs": [
    {
     "name": "stdout",
     "output_type": "stream",
     "text": [
      "['walk', 'vehicle', 'bike', 'train']\n"
     ]
    }
   ],
   "source": [
    "X_columns = ['distance', 'velocity', 'acceleration',\n",
    "             'v_rol', 'v_rsd', 'v_qu1', 'v_qu2', 'v_qu3',  \n",
    "             'a_rol', 'a_rsd', 'a_qu1', 'a_qu2', 'a_qu3']\n",
    "X_filter = ['velocity', 'acceleration', 'v_rol', 'a_rol']\n",
    "\n",
    "Y_columns = ['labels']\n",
    "\n",
    "labels = list(mindataset['labels'].unique())\n",
    "print(labels)"
   ]
  },
  {
   "cell_type": "code",
   "execution_count": 112,
   "metadata": {},
   "outputs": [
    {
     "name": "stdout",
     "output_type": "stream",
     "text": [
      "walk velocity\n",
      "Filter for  velocity : 0.0\n",
      "Filter for  velocity : 11.150887909855143\n",
      "walk acceleration\n",
      "Filter for  acceleration : -1.7129690699920916\n",
      "Filter for  acceleration : 1.8808978577408135\n",
      "walk v_rol\n",
      "Filter for  v_rol : 0.10837238354087333\n",
      "Filter for  v_rol : 7.662593903756775\n",
      "walk a_rol\n",
      "Filter for  a_rol : -0.44732816293825794\n",
      "Filter for  a_rol : 0.08370946734362893\n",
      "vehicle velocity\n",
      "Filter for  velocity : 0.04272133753444271\n",
      "Filter for  velocity : 10.62903922638694\n",
      "vehicle acceleration\n",
      "Filter for  acceleration : -1.3145192656013975\n",
      "Filter for  acceleration : 1.3798148347504686\n",
      "vehicle v_rol\n",
      "Filter for  v_rol : 0.24642301278359646\n",
      "Filter for  v_rol : 7.548848272365875\n",
      "vehicle a_rol\n",
      "Filter for  a_rol : -0.29306952522660157\n",
      "Filter for  a_rol : 0.07919494404706168\n",
      "bike velocity\n",
      "Filter for  velocity : 0.07004631697054069\n",
      "Filter for  velocity : 6.917016125417037\n",
      "bike acceleration\n",
      "Filter for  acceleration : -1.1236431160171207\n",
      "Filter for  acceleration : 1.1626063356584808\n",
      "bike v_rol\n",
      "Filter for  v_rol : 0.4980938476254871\n",
      "Filter for  v_rol : 5.988529808109624\n",
      "bike a_rol\n",
      "Filter for  a_rol : -0.18740249214914587\n",
      "Filter for  a_rol : 0.06627788204964036\n",
      "train velocity\n",
      "Filter for  velocity : 0.11096787786009873\n",
      "Filter for  velocity : 6.719848401926462\n",
      "train acceleration\n",
      "Filter for  acceleration : -0.980767951260886\n",
      "Filter for  acceleration : 0.9932018584675795\n",
      "train v_rol\n",
      "Filter for  v_rol : 0.5627657534906675\n",
      "Filter for  v_rol : 5.934931512232977\n",
      "train a_rol\n",
      "Filter for  a_rol : -0.1780137911928894\n",
      "Filter for  a_rol : 0.06295376286538883\n"
     ]
    }
   ],
   "source": [
    "data = filterdata(mindataset, labels, X_filter)"
   ]
  },
  {
   "cell_type": "code",
   "execution_count": 113,
   "metadata": {},
   "outputs": [
    {
     "data": {
      "image/png": "[encoded data removed]",
      "text/plain": [
       "<Figure size 842.4x595.44 with 1 Axes>"
      ]
     },
     "metadata": {},
     "output_type": "display_data"
    }
   ],
   "source": [
    "# Before processing\n",
    "show_boxes_plot(x=\"labels\", y=\"velocity\", data=mindataset)"
   ]
  },
  {
   "cell_type": "code",
   "execution_count": 114,
   "metadata": {},
   "outputs": [
    {
     "data": {
      "image/png": "[encoded data removed]",
      "text/plain": [
       "<Figure size 842.4x595.44 with 1 Axes>"
      ]
     },
     "metadata": {},
     "output_type": "display_data"
    }
   ],
   "source": [
    "# After processing\n",
    "show_boxes_plot(x=\"labels\", y=\"velocity\", data=data)"
   ]
  },
  {
   "cell_type": "code",
   "execution_count": 115,
   "metadata": {},
   "outputs": [
    {
     "data": {
      "image/png": "[encoded data removed]",
      "text/plain": [
       "<Figure size 842.4x595.44 with 1 Axes>"
      ]
     },
     "metadata": {},
     "output_type": "display_data"
    }
   ],
   "source": [
    "# Before processing\n",
    "show_boxes_plot(x=\"labels\", y=\"acceleration\", data=mindataset)"
   ]
  },
  {
   "cell_type": "code",
   "execution_count": 116,
   "metadata": {},
   "outputs": [
    {
     "data": {
      "image/png": "[encoded data removed]",
      "text/plain": [
       "<Figure size 842.4x595.44 with 1 Axes>"
      ]
     },
     "metadata": {},
     "output_type": "display_data"
    }
   ],
   "source": [
    "# After processing\n",
    "show_boxes_plot(x=\"labels\", y=\"acceleration\", data=data)"
   ]
  },
  {
   "cell_type": "code",
   "execution_count": 117,
   "metadata": {},
   "outputs": [
    {
     "data": {
      "image/png": "[encoded data removed]",
      "text/plain": [
       "<Figure size 842.4x595.44 with 1 Axes>"
      ]
     },
     "metadata": {},
     "output_type": "display_data"
    }
   ],
   "source": [
    "# After processing\n",
    "show_boxes_plot(x=\"labels\", y=\"v_rol\", data=data)"
   ]
  },
  {
   "cell_type": "code",
   "execution_count": 118,
   "metadata": {},
   "outputs": [
    {
     "data": {
      "image/png": "[encoded data removed]",
      "text/plain": [
       "<Figure size 842.4x595.44 with 1 Axes>"
      ]
     },
     "metadata": {},
     "output_type": "display_data"
    }
   ],
   "source": [
    "# After processing\n",
    "show_boxes_plot(x=\"labels\", y=\"a_rol\", data=data)"
   ]
  },
  {
   "cell_type": "markdown",
   "metadata": {},
   "source": [
    "# Model training\n",
    "1. Data separation\n",
    "2. Default model training\n",
    "3. Parameter optimization"
   ]
  },
  {
   "cell_type": "code",
   "execution_count": 121,
   "metadata": {},
   "outputs": [],
   "source": [
    "# 1. Data separation\n",
    "from sklearn.model_selection import train_test_split"
   ]
  },
  {
   "cell_type": "code",
   "execution_count": 126,
   "metadata": {},
   "outputs": [],
   "source": [
    "X = data[X_columns]\n",
    "y = data[Y_columns]"
   ]
  },
  {
   "cell_type": "code",
   "execution_count": 130,
   "metadata": {},
   "outputs": [],
   "source": [
    "state = 43\n",
    "\n",
    "X_train, X_test, y_train, y_test = train_test_split(X, y, test_size=0.2, random_state=state)\n",
    "X_train, X_validate, y_train, y_validate   = train_test_split(X_train, y_train, test_size=0.2, random_state=state)"
   ]
  },
  {
   "cell_type": "code",
   "execution_count": 131,
   "metadata": {},
   "outputs": [
    {
     "name": "stdout",
     "output_type": "stream",
     "text": [
      "Training samples: 1263156\n",
      "Testing samples: 394737\n",
      "Validation samples: 315789\n"
     ]
    }
   ],
   "source": [
    "print(\"Training samples: %d\" % X_train.index.size)\n",
    "print(\"Testing samples: %d\" % X_test.index.size)\n",
    "print(\"Validation samples: %d\" % X_val.index.size)"
   ]
  },
  {
   "cell_type": "markdown",
   "metadata": {},
   "source": [
    "### Обучение\n",
    "\n",
    "Данные готовы, теперь можно обучить ML модель. Здесь мы в качестве модели используем [CatBoost](https://catboost.yandex/) - градиентный бустинг на деревьях решений\n",
    "<img src=\"http://zdnet2.cbsistatic.com/hub/i/2017/07/18/d3f47c3e-8529-4855-a0e1-c686ee3b4007/d1113adf74bb59c3b46419a531c39c3e/orig.png\" width=320>\n",
    "\n",
    "Данный пример использует дефолтные настройки CatBoost-а. Вы можете их настраивать для получения лучшего результата, воспользовавшись [туториалом](https://tech.yandex.com/catboost/doc/dg/concepts/parameter-tuning-docpage/) по настройке параметров"
   ]
  },
  {
   "cell_type": "code",
   "execution_count": 142,
   "metadata": {},
   "outputs": [
    {
     "name": "stderr",
     "output_type": "stream",
     "text": [
      "/home/zh.shakenov/miniconda3/envs/disser/lib/python3.6/site-packages/sklearn/preprocessing/label.py:111: DataConversionWarning: A column-vector y was passed when a 1d array was expected. Please change the shape of y to (n_samples, ), for example using ravel().\n",
      "  y = column_or_1d(y, warn=True)\n",
      "/home/zh.shakenov/miniconda3/envs/disser/lib/python3.6/site-packages/sklearn/preprocessing/label.py:128: DataConversionWarning: A column-vector y was passed when a 1d array was expected. Please change the shape of y to (n_samples, ), for example using ravel().\n",
      "  y = column_or_1d(y, warn=True)\n"
     ]
    }
   ],
   "source": [
    "from sklearn import preprocessing\n",
    "le = preprocessing.LabelEncoder()\n",
    "y_train_tr = le.fit_transform(y_train)\n",
    "y_test_tr = le.transform(y_test)\n",
    "y_validate_tr = le.transform(y_validate)"
   ]
  },
  {
   "cell_type": "code",
   "execution_count": 182,
   "metadata": {},
   "outputs": [
    {
     "name": "stdout",
     "output_type": "stream",
     "text": [
      "0:\tlearn: -0.8470895\ttest: -0.8453908\tbest: -0.8453908 (0)\ttotal: 1.16s\tremaining: 9m 39s\n",
      "1:\tlearn: -0.7436335\ttest: -0.7415604\tbest: -0.7415604 (1)\ttotal: 2.58s\tremaining: 10m 42s\n",
      "2:\tlearn: -0.6936350\ttest: -0.6920568\tbest: -0.6920568 (2)\ttotal: 4.03s\tremaining: 11m 7s\n",
      "3:\tlearn: -0.6670877\ttest: -0.6656247\tbest: -0.6656247 (3)\ttotal: 5.43s\tremaining: 11m 13s\n",
      "4:\tlearn: -0.6523188\ttest: -0.6509928\tbest: -0.6509928 (4)\ttotal: 6.83s\tremaining: 11m 16s\n",
      "5:\tlearn: -0.6421789\ttest: -0.6410218\tbest: -0.6410218 (5)\ttotal: 8.24s\tremaining: 11m 18s\n",
      "6:\tlearn: -0.6352260\ttest: -0.6344410\tbest: -0.6344410 (6)\ttotal: 9.62s\tremaining: 11m 17s\n",
      "7:\tlearn: -0.6305569\ttest: -0.6300531\tbest: -0.6300531 (7)\ttotal: 11s\tremaining: 11m 18s\n",
      "8:\tlearn: -0.6267438\ttest: -0.6264527\tbest: -0.6264527 (8)\ttotal: 12.4s\tremaining: 11m 19s\n",
      "9:\tlearn: -0.6234487\ttest: -0.6233918\tbest: -0.6233918 (9)\ttotal: 13.8s\tremaining: 11m 17s\n",
      "10:\tlearn: -0.6209962\ttest: -0.6213177\tbest: -0.6213177 (10)\ttotal: 15.2s\tremaining: 11m 16s\n",
      "11:\tlearn: -0.6182425\ttest: -0.6191414\tbest: -0.6191414 (11)\ttotal: 16.6s\tremaining: 11m 15s\n",
      "12:\tlearn: -0.6153596\ttest: -0.6165946\tbest: -0.6165946 (12)\ttotal: 18s\tremaining: 11m 15s\n",
      "13:\tlearn: -0.6130244\ttest: -0.6148016\tbest: -0.6148016 (13)\ttotal: 19.5s\tremaining: 11m 15s\n",
      "14:\tlearn: -0.6108567\ttest: -0.6128394\tbest: -0.6128394 (14)\ttotal: 20.8s\tremaining: 11m 13s\n",
      "15:\tlearn: -0.6089240\ttest: -0.6112411\tbest: -0.6112411 (15)\ttotal: 22.3s\tremaining: 11m 13s\n",
      "16:\tlearn: -0.6072011\ttest: -0.6098078\tbest: -0.6098078 (16)\ttotal: 23.7s\tremaining: 11m 12s\n",
      "17:\tlearn: -0.6058516\ttest: -0.6087628\tbest: -0.6087628 (17)\ttotal: 25.1s\tremaining: 11m 12s\n",
      "18:\tlearn: -0.6042422\ttest: -0.6075328\tbest: -0.6075328 (18)\ttotal: 26.5s\tremaining: 11m 11s\n",
      "19:\tlearn: -0.6019837\ttest: -0.6055436\tbest: -0.6055436 (19)\ttotal: 27.9s\tremaining: 11m 9s\n",
      "20:\tlearn: -0.6002279\ttest: -0.6043344\tbest: -0.6043344 (20)\ttotal: 29.4s\tremaining: 11m 9s\n",
      "21:\tlearn: -0.5991857\ttest: -0.6034151\tbest: -0.6034151 (21)\ttotal: 30.7s\tremaining: 11m 6s\n",
      "22:\tlearn: -0.5983913\ttest: -0.6028588\tbest: -0.6028588 (22)\ttotal: 32.1s\tremaining: 11m 5s\n",
      "23:\tlearn: -0.5973482\ttest: -0.6021642\tbest: -0.6021642 (23)\ttotal: 33.5s\tremaining: 11m 4s\n",
      "24:\tlearn: -0.5962896\ttest: -0.6014947\tbest: -0.6014947 (24)\ttotal: 34.9s\tremaining: 11m 3s\n",
      "25:\tlearn: -0.5954980\ttest: -0.6008556\tbest: -0.6008556 (25)\ttotal: 36.3s\tremaining: 11m 2s\n",
      "26:\tlearn: -0.5944151\ttest: -0.5999942\tbest: -0.5999942 (26)\ttotal: 37.7s\tremaining: 11m\n",
      "27:\tlearn: -0.5935138\ttest: -0.5993260\tbest: -0.5993260 (27)\ttotal: 39.1s\tremaining: 10m 59s\n",
      "28:\tlearn: -0.5927973\ttest: -0.5987733\tbest: -0.5987733 (28)\ttotal: 40.5s\tremaining: 10m 57s\n",
      "29:\tlearn: -0.5914470\ttest: -0.5978321\tbest: -0.5978321 (29)\ttotal: 41.9s\tremaining: 10m 56s\n",
      "30:\tlearn: -0.5891077\ttest: -0.5955930\tbest: -0.5955930 (30)\ttotal: 43.3s\tremaining: 10m 54s\n",
      "31:\tlearn: -0.5878227\ttest: -0.5944331\tbest: -0.5944331 (31)\ttotal: 44.7s\tremaining: 10m 53s\n",
      "32:\tlearn: -0.5868259\ttest: -0.5935858\tbest: -0.5935858 (32)\ttotal: 46.1s\tremaining: 10m 51s\n",
      "33:\tlearn: -0.5859359\ttest: -0.5931611\tbest: -0.5931611 (33)\ttotal: 47.5s\tremaining: 10m 51s\n",
      "34:\tlearn: -0.5851416\ttest: -0.5926279\tbest: -0.5926279 (34)\ttotal: 48.9s\tremaining: 10m 49s\n",
      "35:\tlearn: -0.5843887\ttest: -0.5921524\tbest: -0.5921524 (35)\ttotal: 50.3s\tremaining: 10m 48s\n",
      "36:\tlearn: -0.5835119\ttest: -0.5916574\tbest: -0.5916574 (36)\ttotal: 51.7s\tremaining: 10m 46s\n",
      "37:\tlearn: -0.5827274\ttest: -0.5910822\tbest: -0.5910822 (37)\ttotal: 53.1s\tremaining: 10m 45s\n",
      "38:\tlearn: -0.5816691\ttest: -0.5902133\tbest: -0.5902133 (38)\ttotal: 54.4s\tremaining: 10m 43s\n",
      "39:\tlearn: -0.5809522\ttest: -0.5898004\tbest: -0.5898004 (39)\ttotal: 55.8s\tremaining: 10m 42s\n",
      "40:\tlearn: -0.5799056\ttest: -0.5892497\tbest: -0.5892497 (40)\ttotal: 57.3s\tremaining: 10m 41s\n",
      "41:\tlearn: -0.5790884\ttest: -0.5887469\tbest: -0.5887469 (41)\ttotal: 58.7s\tremaining: 10m 40s\n",
      "42:\tlearn: -0.5782277\ttest: -0.5881469\tbest: -0.5881469 (42)\ttotal: 1m\tremaining: 10m 38s\n",
      "43:\tlearn: -0.5775763\ttest: -0.5877936\tbest: -0.5877936 (43)\ttotal: 1m 1s\tremaining: 10m 37s\n",
      "44:\tlearn: -0.5768462\ttest: -0.5873144\tbest: -0.5873144 (44)\ttotal: 1m 2s\tremaining: 10m 35s\n",
      "45:\tlearn: -0.5761817\ttest: -0.5868442\tbest: -0.5868442 (45)\ttotal: 1m 4s\tremaining: 10m 34s\n",
      "46:\tlearn: -0.5754143\ttest: -0.5863269\tbest: -0.5863269 (46)\ttotal: 1m 5s\tremaining: 10m 32s\n",
      "47:\tlearn: -0.5747421\ttest: -0.5859191\tbest: -0.5859191 (47)\ttotal: 1m 7s\tremaining: 10m 31s\n",
      "48:\tlearn: -0.5737516\ttest: -0.5852439\tbest: -0.5852439 (48)\ttotal: 1m 8s\tremaining: 10m 30s\n",
      "49:\tlearn: -0.5728693\ttest: -0.5847132\tbest: -0.5847132 (49)\ttotal: 1m 9s\tremaining: 10m 29s\n",
      "50:\tlearn: -0.5720935\ttest: -0.5842110\tbest: -0.5842110 (50)\ttotal: 1m 11s\tremaining: 10m 27s\n",
      "51:\tlearn: -0.5716132\ttest: -0.5838600\tbest: -0.5838600 (51)\ttotal: 1m 12s\tremaining: 10m 26s\n",
      "52:\tlearn: -0.5708286\ttest: -0.5834180\tbest: -0.5834180 (52)\ttotal: 1m 14s\tremaining: 10m 25s\n",
      "53:\tlearn: -0.5703232\ttest: -0.5831726\tbest: -0.5831726 (53)\ttotal: 1m 15s\tremaining: 10m 23s\n",
      "54:\tlearn: -0.5695579\ttest: -0.5826438\tbest: -0.5826438 (54)\ttotal: 1m 16s\tremaining: 10m 22s\n",
      "55:\tlearn: -0.5690975\ttest: -0.5822941\tbest: -0.5822941 (55)\ttotal: 1m 18s\tremaining: 10m 21s\n",
      "56:\tlearn: -0.5685110\ttest: -0.5819366\tbest: -0.5819366 (56)\ttotal: 1m 19s\tremaining: 10m 19s\n",
      "57:\tlearn: -0.5675682\ttest: -0.5813718\tbest: -0.5813718 (57)\ttotal: 1m 21s\tremaining: 10m 18s\n",
      "58:\tlearn: -0.5668884\ttest: -0.5810893\tbest: -0.5810893 (58)\ttotal: 1m 22s\tremaining: 10m 17s\n",
      "59:\tlearn: -0.5661807\ttest: -0.5805488\tbest: -0.5805488 (59)\ttotal: 1m 23s\tremaining: 10m 15s\n",
      "60:\tlearn: -0.5657192\ttest: -0.5802849\tbest: -0.5802849 (60)\ttotal: 1m 25s\tremaining: 10m 14s\n",
      "61:\tlearn: -0.5651175\ttest: -0.5799494\tbest: -0.5799494 (61)\ttotal: 1m 26s\tremaining: 10m 13s\n",
      "62:\tlearn: -0.5645642\ttest: -0.5796460\tbest: -0.5796460 (62)\ttotal: 1m 28s\tremaining: 10m 11s\n",
      "63:\tlearn: -0.5641524\ttest: -0.5794030\tbest: -0.5794030 (63)\ttotal: 1m 29s\tremaining: 10m 9s\n",
      "64:\tlearn: -0.5634799\ttest: -0.5791062\tbest: -0.5791062 (64)\ttotal: 1m 30s\tremaining: 10m 8s\n",
      "65:\tlearn: -0.5625866\ttest: -0.5785674\tbest: -0.5785674 (65)\ttotal: 1m 32s\tremaining: 10m 7s\n",
      "66:\tlearn: -0.5621377\ttest: -0.5785033\tbest: -0.5785033 (66)\ttotal: 1m 33s\tremaining: 10m 6s\n",
      "67:\tlearn: -0.5612092\ttest: -0.5780182\tbest: -0.5780182 (67)\ttotal: 1m 35s\tremaining: 10m 5s\n",
      "68:\tlearn: -0.5605554\ttest: -0.5776231\tbest: -0.5776231 (68)\ttotal: 1m 36s\tremaining: 10m 3s\n",
      "69:\tlearn: -0.5599764\ttest: -0.5774135\tbest: -0.5774135 (69)\ttotal: 1m 38s\tremaining: 10m 2s\n",
      "70:\tlearn: -0.5591865\ttest: -0.5769627\tbest: -0.5769627 (70)\ttotal: 1m 39s\tremaining: 10m 1s\n",
      "71:\tlearn: -0.5588881\ttest: -0.5767821\tbest: -0.5767821 (71)\ttotal: 1m 40s\tremaining: 9m 59s\n",
      "72:\tlearn: -0.5583791\ttest: -0.5765499\tbest: -0.5765499 (72)\ttotal: 1m 42s\tremaining: 9m 58s\n",
      "73:\tlearn: -0.5578119\ttest: -0.5761157\tbest: -0.5761157 (73)\ttotal: 1m 43s\tremaining: 9m 56s\n",
      "74:\tlearn: -0.5572604\ttest: -0.5758685\tbest: -0.5758685 (74)\ttotal: 1m 45s\tremaining: 9m 55s\n",
      "75:\tlearn: -0.5567130\ttest: -0.5755823\tbest: -0.5755823 (75)\ttotal: 1m 46s\tremaining: 9m 54s\n",
      "76:\tlearn: -0.5559399\ttest: -0.5752014\tbest: -0.5752014 (76)\ttotal: 1m 47s\tremaining: 9m 52s\n",
      "77:\tlearn: -0.5552497\ttest: -0.5748828\tbest: -0.5748828 (77)\ttotal: 1m 49s\tremaining: 9m 51s\n",
      "78:\tlearn: -0.5548468\ttest: -0.5747508\tbest: -0.5747508 (78)\ttotal: 1m 50s\tremaining: 9m 50s\n",
      "79:\tlearn: -0.5544422\ttest: -0.5745683\tbest: -0.5745683 (79)\ttotal: 1m 52s\tremaining: 9m 48s\n",
      "80:\tlearn: -0.5538044\ttest: -0.5742178\tbest: -0.5742178 (80)\ttotal: 1m 53s\tremaining: 9m 47s\n",
      "81:\tlearn: -0.5533991\ttest: -0.5740091\tbest: -0.5740091 (81)\ttotal: 1m 54s\tremaining: 9m 46s\n",
      "82:\tlearn: -0.5528376\ttest: -0.5737100\tbest: -0.5737100 (82)\ttotal: 1m 56s\tremaining: 9m 44s\n",
      "83:\tlearn: -0.5523023\ttest: -0.5735715\tbest: -0.5735715 (83)\ttotal: 1m 57s\tremaining: 9m 43s\n",
      "84:\tlearn: -0.5518346\ttest: -0.5733230\tbest: -0.5733230 (84)\ttotal: 1m 59s\tremaining: 9m 42s\n",
      "85:\tlearn: -0.5514189\ttest: -0.5730451\tbest: -0.5730451 (85)\ttotal: 2m\tremaining: 9m 40s\n",
      "86:\tlearn: -0.5507683\ttest: -0.5726546\tbest: -0.5726546 (86)\ttotal: 2m 1s\tremaining: 9m 39s\n",
      "87:\tlearn: -0.5501486\ttest: -0.5723013\tbest: -0.5723013 (87)\ttotal: 2m 3s\tremaining: 9m 37s\n",
      "88:\tlearn: -0.5496169\ttest: -0.5720091\tbest: -0.5720091 (88)\ttotal: 2m 4s\tremaining: 9m 36s\n"
     ]
    },
    {
     "name": "stdout",
     "output_type": "stream",
     "text": [
      "89:\tlearn: -0.5489789\ttest: -0.5715972\tbest: -0.5715972 (89)\ttotal: 2m 6s\tremaining: 9m 35s\n",
      "90:\tlearn: -0.5483276\ttest: -0.5712395\tbest: -0.5712395 (90)\ttotal: 2m 7s\tremaining: 9m 33s\n",
      "91:\tlearn: -0.5477894\ttest: -0.5709855\tbest: -0.5709855 (91)\ttotal: 2m 9s\tremaining: 9m 32s\n",
      "92:\tlearn: -0.5473013\ttest: -0.5706377\tbest: -0.5706377 (92)\ttotal: 2m 10s\tremaining: 9m 30s\n",
      "93:\tlearn: -0.5468124\ttest: -0.5703750\tbest: -0.5703750 (93)\ttotal: 2m 11s\tremaining: 9m 29s\n",
      "94:\tlearn: -0.5461743\ttest: -0.5700920\tbest: -0.5700920 (94)\ttotal: 2m 13s\tremaining: 9m 28s\n",
      "95:\tlearn: -0.5456524\ttest: -0.5698455\tbest: -0.5698455 (95)\ttotal: 2m 14s\tremaining: 9m 26s\n",
      "96:\tlearn: -0.5450659\ttest: -0.5694489\tbest: -0.5694489 (96)\ttotal: 2m 16s\tremaining: 9m 25s\n",
      "97:\tlearn: -0.5446308\ttest: -0.5692429\tbest: -0.5692429 (97)\ttotal: 2m 17s\tremaining: 9m 24s\n",
      "98:\tlearn: -0.5441385\ttest: -0.5689195\tbest: -0.5689195 (98)\ttotal: 2m 18s\tremaining: 9m 22s\n",
      "99:\tlearn: -0.5437834\ttest: -0.5687272\tbest: -0.5687272 (99)\ttotal: 2m 20s\tremaining: 9m 21s\n",
      "100:\tlearn: -0.5433378\ttest: -0.5685124\tbest: -0.5685124 (100)\ttotal: 2m 21s\tremaining: 9m 19s\n",
      "101:\tlearn: -0.5429728\ttest: -0.5683812\tbest: -0.5683812 (101)\ttotal: 2m 23s\tremaining: 9m 18s\n",
      "102:\tlearn: -0.5424894\ttest: -0.5681610\tbest: -0.5681610 (102)\ttotal: 2m 24s\tremaining: 9m 17s\n",
      "103:\tlearn: -0.5419055\ttest: -0.5679192\tbest: -0.5679192 (103)\ttotal: 2m 25s\tremaining: 9m 15s\n",
      "104:\tlearn: -0.5414988\ttest: -0.5676958\tbest: -0.5676958 (104)\ttotal: 2m 27s\tremaining: 9m 14s\n",
      "105:\tlearn: -0.5410000\ttest: -0.5673517\tbest: -0.5673517 (105)\ttotal: 2m 28s\tremaining: 9m 13s\n",
      "106:\tlearn: -0.5404577\ttest: -0.5670129\tbest: -0.5670129 (106)\ttotal: 2m 30s\tremaining: 9m 11s\n",
      "107:\tlearn: -0.5396389\ttest: -0.5665744\tbest: -0.5665744 (107)\ttotal: 2m 31s\tremaining: 9m 10s\n",
      "108:\tlearn: -0.5391773\ttest: -0.5663228\tbest: -0.5663228 (108)\ttotal: 2m 33s\tremaining: 9m 9s\n",
      "109:\tlearn: -0.5388169\ttest: -0.5661105\tbest: -0.5661105 (109)\ttotal: 2m 34s\tremaining: 9m 7s\n",
      "110:\tlearn: -0.5384367\ttest: -0.5659371\tbest: -0.5659371 (110)\ttotal: 2m 35s\tremaining: 9m 6s\n",
      "111:\tlearn: -0.5379454\ttest: -0.5656544\tbest: -0.5656544 (111)\ttotal: 2m 37s\tremaining: 9m 4s\n",
      "112:\tlearn: -0.5376181\ttest: -0.5654536\tbest: -0.5654536 (112)\ttotal: 2m 38s\tremaining: 9m 3s\n",
      "113:\tlearn: -0.5370562\ttest: -0.5650667\tbest: -0.5650667 (113)\ttotal: 2m 40s\tremaining: 9m 1s\n",
      "114:\tlearn: -0.5367686\ttest: -0.5649018\tbest: -0.5649018 (114)\ttotal: 2m 41s\tremaining: 9m\n",
      "115:\tlearn: -0.5364810\ttest: -0.5647617\tbest: -0.5647617 (115)\ttotal: 2m 42s\tremaining: 8m 58s\n",
      "116:\tlearn: -0.5361121\ttest: -0.5646478\tbest: -0.5646478 (116)\ttotal: 2m 44s\tremaining: 8m 57s\n",
      "117:\tlearn: -0.5356013\ttest: -0.5644838\tbest: -0.5644838 (117)\ttotal: 2m 45s\tremaining: 8m 56s\n",
      "118:\tlearn: -0.5350388\ttest: -0.5641649\tbest: -0.5641649 (118)\ttotal: 2m 47s\tremaining: 8m 54s\n",
      "119:\tlearn: -0.5345532\ttest: -0.5639549\tbest: -0.5639549 (119)\ttotal: 2m 48s\tremaining: 8m 53s\n",
      "120:\tlearn: -0.5341570\ttest: -0.5637188\tbest: -0.5637188 (120)\ttotal: 2m 49s\tremaining: 8m 51s\n",
      "121:\tlearn: -0.5334856\ttest: -0.5633639\tbest: -0.5633639 (121)\ttotal: 2m 51s\tremaining: 8m 50s\n",
      "122:\tlearn: -0.5329848\ttest: -0.5630050\tbest: -0.5630050 (122)\ttotal: 2m 52s\tremaining: 8m 49s\n",
      "123:\tlearn: -0.5324919\ttest: -0.5627888\tbest: -0.5627888 (123)\ttotal: 2m 54s\tremaining: 8m 47s\n",
      "124:\tlearn: -0.5320975\ttest: -0.5625679\tbest: -0.5625679 (124)\ttotal: 2m 55s\tremaining: 8m 46s\n",
      "125:\tlearn: -0.5316953\ttest: -0.5623612\tbest: -0.5623612 (125)\ttotal: 2m 56s\tremaining: 8m 45s\n",
      "126:\tlearn: -0.5313190\ttest: -0.5622855\tbest: -0.5622855 (126)\ttotal: 2m 58s\tremaining: 8m 43s\n",
      "127:\tlearn: -0.5309825\ttest: -0.5620939\tbest: -0.5620939 (127)\ttotal: 2m 59s\tremaining: 8m 42s\n",
      "128:\tlearn: -0.5306352\ttest: -0.5618403\tbest: -0.5618403 (128)\ttotal: 3m 1s\tremaining: 8m 40s\n",
      "129:\tlearn: -0.5303381\ttest: -0.5616664\tbest: -0.5616664 (129)\ttotal: 3m 2s\tremaining: 8m 39s\n",
      "130:\tlearn: -0.5299106\ttest: -0.5614373\tbest: -0.5614373 (130)\ttotal: 3m 3s\tremaining: 8m 37s\n",
      "131:\tlearn: -0.5295608\ttest: -0.5612621\tbest: -0.5612621 (131)\ttotal: 3m 5s\tremaining: 8m 36s\n",
      "132:\tlearn: -0.5292544\ttest: -0.5610595\tbest: -0.5610595 (132)\ttotal: 3m 6s\tremaining: 8m 34s\n",
      "133:\tlearn: -0.5288026\ttest: -0.5609165\tbest: -0.5609165 (133)\ttotal: 3m 8s\tremaining: 8m 33s\n",
      "134:\tlearn: -0.5280522\ttest: -0.5604997\tbest: -0.5604997 (134)\ttotal: 3m 9s\tremaining: 8m 32s\n",
      "135:\tlearn: -0.5275618\ttest: -0.5602543\tbest: -0.5602543 (135)\ttotal: 3m 10s\tremaining: 8m 30s\n",
      "136:\tlearn: -0.5270899\ttest: -0.5600298\tbest: -0.5600298 (136)\ttotal: 3m 12s\tremaining: 8m 29s\n",
      "137:\tlearn: -0.5265862\ttest: -0.5597462\tbest: -0.5597462 (137)\ttotal: 3m 13s\tremaining: 8m 28s\n",
      "138:\tlearn: -0.5261464\ttest: -0.5595649\tbest: -0.5595649 (138)\ttotal: 3m 15s\tremaining: 8m 26s\n",
      "139:\tlearn: -0.5256704\ttest: -0.5592621\tbest: -0.5592621 (139)\ttotal: 3m 16s\tremaining: 8m 25s\n",
      "140:\tlearn: -0.5250123\ttest: -0.5590323\tbest: -0.5590323 (140)\ttotal: 3m 18s\tremaining: 8m 24s\n",
      "141:\tlearn: -0.5247121\ttest: -0.5588565\tbest: -0.5588565 (141)\ttotal: 3m 19s\tremaining: 8m 22s\n",
      "142:\tlearn: -0.5243184\ttest: -0.5586582\tbest: -0.5586582 (142)\ttotal: 3m 20s\tremaining: 8m 21s\n",
      "143:\tlearn: -0.5238773\ttest: -0.5584354\tbest: -0.5584354 (143)\ttotal: 3m 22s\tremaining: 8m 20s\n",
      "144:\tlearn: -0.5234963\ttest: -0.5583176\tbest: -0.5583176 (144)\ttotal: 3m 23s\tremaining: 8m 18s\n",
      "145:\tlearn: -0.5230806\ttest: -0.5582545\tbest: -0.5582545 (145)\ttotal: 3m 25s\tremaining: 8m 17s\n",
      "146:\tlearn: -0.5223950\ttest: -0.5579520\tbest: -0.5579520 (146)\ttotal: 3m 26s\tremaining: 8m 16s\n",
      "147:\tlearn: -0.5219585\ttest: -0.5577098\tbest: -0.5577098 (147)\ttotal: 3m 27s\tremaining: 8m 14s\n",
      "148:\tlearn: -0.5213999\ttest: -0.5574098\tbest: -0.5574098 (148)\ttotal: 3m 29s\tremaining: 8m 13s\n",
      "149:\tlearn: -0.5208433\ttest: -0.5571234\tbest: -0.5571234 (149)\ttotal: 3m 30s\tremaining: 8m 12s\n",
      "150:\tlearn: -0.5204088\ttest: -0.5570057\tbest: -0.5570057 (150)\ttotal: 3m 32s\tremaining: 8m 10s\n",
      "151:\tlearn: -0.5201088\ttest: -0.5568918\tbest: -0.5568918 (151)\ttotal: 3m 33s\tremaining: 8m 9s\n",
      "152:\tlearn: -0.5197833\ttest: -0.5566883\tbest: -0.5566883 (152)\ttotal: 3m 35s\tremaining: 8m 7s\n",
      "153:\tlearn: -0.5191927\ttest: -0.5563470\tbest: -0.5563470 (153)\ttotal: 3m 36s\tremaining: 8m 6s\n",
      "154:\tlearn: -0.5187824\ttest: -0.5560282\tbest: -0.5560282 (154)\ttotal: 3m 37s\tremaining: 8m 5s\n",
      "155:\tlearn: -0.5183939\ttest: -0.5558440\tbest: -0.5558440 (155)\ttotal: 3m 39s\tremaining: 8m 3s\n",
      "156:\tlearn: -0.5180739\ttest: -0.5557134\tbest: -0.5557134 (156)\ttotal: 3m 40s\tremaining: 8m 2s\n",
      "157:\tlearn: -0.5177377\ttest: -0.5555911\tbest: -0.5555911 (157)\ttotal: 3m 42s\tremaining: 8m\n",
      "158:\tlearn: -0.5173912\ttest: -0.5554938\tbest: -0.5554938 (158)\ttotal: 3m 43s\tremaining: 7m 59s\n",
      "159:\tlearn: -0.5167962\ttest: -0.5551351\tbest: -0.5551351 (159)\ttotal: 3m 44s\tremaining: 7m 58s\n",
      "160:\tlearn: -0.5163840\ttest: -0.5549443\tbest: -0.5549443 (160)\ttotal: 3m 46s\tremaining: 7m 56s\n",
      "161:\tlearn: -0.5160152\ttest: -0.5547101\tbest: -0.5547101 (161)\ttotal: 3m 47s\tremaining: 7m 55s\n",
      "162:\tlearn: -0.5155418\ttest: -0.5544347\tbest: -0.5544347 (162)\ttotal: 3m 49s\tremaining: 7m 53s\n",
      "163:\tlearn: -0.5151837\ttest: -0.5542790\tbest: -0.5542790 (163)\ttotal: 3m 50s\tremaining: 7m 52s\n",
      "164:\tlearn: -0.5147964\ttest: -0.5540505\tbest: -0.5540505 (164)\ttotal: 3m 52s\tremaining: 7m 51s\n",
      "165:\tlearn: -0.5142365\ttest: -0.5538856\tbest: -0.5538856 (165)\ttotal: 3m 53s\tremaining: 7m 49s\n",
      "166:\tlearn: -0.5138647\ttest: -0.5536984\tbest: -0.5536984 (166)\ttotal: 3m 54s\tremaining: 7m 48s\n",
      "167:\tlearn: -0.5135304\ttest: -0.5535863\tbest: -0.5535863 (167)\ttotal: 3m 56s\tremaining: 7m 47s\n",
      "168:\tlearn: -0.5132526\ttest: -0.5535180\tbest: -0.5535180 (168)\ttotal: 3m 57s\tremaining: 7m 45s\n",
      "169:\tlearn: -0.5128689\ttest: -0.5533612\tbest: -0.5533612 (169)\ttotal: 3m 59s\tremaining: 7m 44s\n",
      "170:\tlearn: -0.5125300\ttest: -0.5531979\tbest: -0.5531979 (170)\ttotal: 4m\tremaining: 7m 42s\n",
      "171:\tlearn: -0.5122862\ttest: -0.5531086\tbest: -0.5531086 (171)\ttotal: 4m 1s\tremaining: 7m 41s\n",
      "172:\tlearn: -0.5120300\ttest: -0.5529416\tbest: -0.5529416 (172)\ttotal: 4m 3s\tremaining: 7m 39s\n",
      "173:\tlearn: -0.5116698\ttest: -0.5527790\tbest: -0.5527790 (173)\ttotal: 4m 4s\tremaining: 7m 38s\n",
      "174:\tlearn: -0.5112169\ttest: -0.5526375\tbest: -0.5526375 (174)\ttotal: 4m 6s\tremaining: 7m 37s\n",
      "175:\tlearn: -0.5108539\ttest: -0.5524658\tbest: -0.5524658 (175)\ttotal: 4m 7s\tremaining: 7m 35s\n"
     ]
    },
    {
     "name": "stdout",
     "output_type": "stream",
     "text": [
      "176:\tlearn: -0.5104423\ttest: -0.5523060\tbest: -0.5523060 (176)\ttotal: 4m 8s\tremaining: 7m 34s\n",
      "177:\tlearn: -0.5102800\ttest: -0.5522731\tbest: -0.5522731 (177)\ttotal: 4m 10s\tremaining: 7m 32s\n",
      "178:\tlearn: -0.5098642\ttest: -0.5520218\tbest: -0.5520218 (178)\ttotal: 4m 11s\tremaining: 7m 31s\n",
      "179:\tlearn: -0.5093971\ttest: -0.5517905\tbest: -0.5517905 (179)\ttotal: 4m 13s\tremaining: 7m 30s\n",
      "180:\tlearn: -0.5090256\ttest: -0.5517352\tbest: -0.5517352 (180)\ttotal: 4m 14s\tremaining: 7m 28s\n",
      "181:\tlearn: -0.5087683\ttest: -0.5516241\tbest: -0.5516241 (181)\ttotal: 4m 16s\tremaining: 7m 27s\n",
      "182:\tlearn: -0.5084651\ttest: -0.5514478\tbest: -0.5514478 (182)\ttotal: 4m 17s\tremaining: 7m 26s\n",
      "183:\tlearn: -0.5079984\ttest: -0.5511935\tbest: -0.5511935 (183)\ttotal: 4m 18s\tremaining: 7m 24s\n",
      "184:\tlearn: -0.5076401\ttest: -0.5509940\tbest: -0.5509940 (184)\ttotal: 4m 20s\tremaining: 7m 23s\n",
      "185:\tlearn: -0.5070712\ttest: -0.5506296\tbest: -0.5506296 (185)\ttotal: 4m 21s\tremaining: 7m 21s\n",
      "186:\tlearn: -0.5067489\ttest: -0.5504669\tbest: -0.5504669 (186)\ttotal: 4m 23s\tremaining: 7m 20s\n",
      "187:\tlearn: -0.5063614\ttest: -0.5502947\tbest: -0.5502947 (187)\ttotal: 4m 24s\tremaining: 7m 19s\n",
      "188:\tlearn: -0.5060983\ttest: -0.5502433\tbest: -0.5502433 (188)\ttotal: 4m 26s\tremaining: 7m 17s\n",
      "189:\tlearn: -0.5057712\ttest: -0.5501757\tbest: -0.5501757 (189)\ttotal: 4m 27s\tremaining: 7m 16s\n",
      "190:\tlearn: -0.5053728\ttest: -0.5501193\tbest: -0.5501193 (190)\ttotal: 4m 28s\tremaining: 7m 14s\n",
      "191:\tlearn: -0.5049396\ttest: -0.5498977\tbest: -0.5498977 (191)\ttotal: 4m 30s\tremaining: 7m 13s\n",
      "192:\tlearn: -0.5046411\ttest: -0.5498675\tbest: -0.5498675 (192)\ttotal: 4m 31s\tremaining: 7m 12s\n",
      "193:\tlearn: -0.5041319\ttest: -0.5496959\tbest: -0.5496959 (193)\ttotal: 4m 33s\tremaining: 7m 10s\n",
      "194:\tlearn: -0.5038490\ttest: -0.5496260\tbest: -0.5496260 (194)\ttotal: 4m 34s\tremaining: 7m 9s\n",
      "195:\tlearn: -0.5034971\ttest: -0.5493707\tbest: -0.5493707 (195)\ttotal: 4m 35s\tremaining: 7m 8s\n",
      "196:\tlearn: -0.5031620\ttest: -0.5491752\tbest: -0.5491752 (196)\ttotal: 4m 37s\tremaining: 7m 6s\n",
      "197:\tlearn: -0.5026779\ttest: -0.5489363\tbest: -0.5489363 (197)\ttotal: 4m 38s\tremaining: 7m 5s\n",
      "198:\tlearn: -0.5023382\ttest: -0.5488885\tbest: -0.5488885 (198)\ttotal: 4m 40s\tremaining: 7m 3s\n",
      "199:\tlearn: -0.5020653\ttest: -0.5487977\tbest: -0.5487977 (199)\ttotal: 4m 41s\tremaining: 7m 2s\n",
      "200:\tlearn: -0.5018098\ttest: -0.5486542\tbest: -0.5486542 (200)\ttotal: 4m 43s\tremaining: 7m 1s\n",
      "201:\tlearn: -0.5015799\ttest: -0.5485858\tbest: -0.5485858 (201)\ttotal: 4m 44s\tremaining: 6m 59s\n",
      "202:\tlearn: -0.5013533\ttest: -0.5485373\tbest: -0.5485373 (202)\ttotal: 4m 45s\tremaining: 6m 58s\n",
      "203:\tlearn: -0.5008913\ttest: -0.5483685\tbest: -0.5483685 (203)\ttotal: 4m 47s\tremaining: 6m 56s\n",
      "204:\tlearn: -0.5006648\ttest: -0.5482431\tbest: -0.5482431 (204)\ttotal: 4m 48s\tremaining: 6m 55s\n",
      "205:\tlearn: -0.5003800\ttest: -0.5481060\tbest: -0.5481060 (205)\ttotal: 4m 50s\tremaining: 6m 53s\n",
      "206:\tlearn: -0.5001121\ttest: -0.5480666\tbest: -0.5480666 (206)\ttotal: 4m 51s\tremaining: 6m 52s\n",
      "207:\tlearn: -0.4997631\ttest: -0.5478465\tbest: -0.5478465 (207)\ttotal: 4m 52s\tremaining: 6m 51s\n",
      "208:\tlearn: -0.4995670\ttest: -0.5477606\tbest: -0.5477606 (208)\ttotal: 4m 54s\tremaining: 6m 49s\n",
      "209:\tlearn: -0.4992640\ttest: -0.5475772\tbest: -0.5475772 (209)\ttotal: 4m 55s\tremaining: 6m 48s\n",
      "210:\tlearn: -0.4989358\ttest: -0.5474748\tbest: -0.5474748 (210)\ttotal: 4m 57s\tremaining: 6m 46s\n",
      "211:\tlearn: -0.4986385\ttest: -0.5473999\tbest: -0.5473999 (211)\ttotal: 4m 58s\tremaining: 6m 45s\n",
      "212:\tlearn: -0.4982737\ttest: -0.5472215\tbest: -0.5472215 (212)\ttotal: 4m 59s\tremaining: 6m 44s\n",
      "213:\tlearn: -0.4979731\ttest: -0.5471007\tbest: -0.5471007 (213)\ttotal: 5m 1s\tremaining: 6m 42s\n",
      "214:\tlearn: -0.4977228\ttest: -0.5470528\tbest: -0.5470528 (214)\ttotal: 5m 2s\tremaining: 6m 41s\n",
      "215:\tlearn: -0.4972688\ttest: -0.5469332\tbest: -0.5469332 (215)\ttotal: 5m 4s\tremaining: 6m 39s\n",
      "216:\tlearn: -0.4969137\ttest: -0.5467091\tbest: -0.5467091 (216)\ttotal: 5m 5s\tremaining: 6m 38s\n",
      "217:\tlearn: -0.4966350\ttest: -0.5466039\tbest: -0.5466039 (217)\ttotal: 5m 7s\tremaining: 6m 37s\n",
      "218:\tlearn: -0.4963058\ttest: -0.5464563\tbest: -0.5464563 (218)\ttotal: 5m 8s\tremaining: 6m 35s\n",
      "219:\tlearn: -0.4958480\ttest: -0.5463683\tbest: -0.5463683 (219)\ttotal: 5m 9s\tremaining: 6m 34s\n",
      "220:\tlearn: -0.4954263\ttest: -0.5462246\tbest: -0.5462246 (220)\ttotal: 5m 11s\tremaining: 6m 33s\n",
      "221:\tlearn: -0.4952145\ttest: -0.5461027\tbest: -0.5461027 (221)\ttotal: 5m 12s\tremaining: 6m 31s\n",
      "222:\tlearn: -0.4950042\ttest: -0.5460160\tbest: -0.5460160 (222)\ttotal: 5m 14s\tremaining: 6m 30s\n",
      "223:\tlearn: -0.4946905\ttest: -0.5459021\tbest: -0.5459021 (223)\ttotal: 5m 15s\tremaining: 6m 28s\n",
      "224:\tlearn: -0.4942474\ttest: -0.5456758\tbest: -0.5456758 (224)\ttotal: 5m 16s\tremaining: 6m 27s\n",
      "225:\tlearn: -0.4939025\ttest: -0.5455695\tbest: -0.5455695 (225)\ttotal: 5m 18s\tremaining: 6m 25s\n",
      "226:\tlearn: -0.4934149\ttest: -0.5453746\tbest: -0.5453746 (226)\ttotal: 5m 19s\tremaining: 6m 24s\n",
      "227:\tlearn: -0.4930980\ttest: -0.5452091\tbest: -0.5452091 (227)\ttotal: 5m 21s\tremaining: 6m 23s\n",
      "228:\tlearn: -0.4928037\ttest: -0.5450620\tbest: -0.5450620 (228)\ttotal: 5m 22s\tremaining: 6m 21s\n",
      "229:\tlearn: -0.4924545\ttest: -0.5449638\tbest: -0.5449638 (229)\ttotal: 5m 23s\tremaining: 6m 20s\n",
      "230:\tlearn: -0.4919977\ttest: -0.5447328\tbest: -0.5447328 (230)\ttotal: 5m 25s\tremaining: 6m 18s\n",
      "231:\tlearn: -0.4916852\ttest: -0.5445634\tbest: -0.5445634 (231)\ttotal: 5m 26s\tremaining: 6m 17s\n",
      "232:\tlearn: -0.4913754\ttest: -0.5444939\tbest: -0.5444939 (232)\ttotal: 5m 28s\tremaining: 6m 16s\n",
      "233:\tlearn: -0.4910052\ttest: -0.5443486\tbest: -0.5443486 (233)\ttotal: 5m 29s\tremaining: 6m 14s\n",
      "234:\tlearn: -0.4906409\ttest: -0.5441299\tbest: -0.5441299 (234)\ttotal: 5m 31s\tremaining: 6m 13s\n",
      "235:\tlearn: -0.4901878\ttest: -0.5440306\tbest: -0.5440306 (235)\ttotal: 5m 32s\tremaining: 6m 12s\n",
      "236:\tlearn: -0.4897717\ttest: -0.5438989\tbest: -0.5438989 (236)\ttotal: 5m 34s\tremaining: 6m 10s\n",
      "237:\tlearn: -0.4894560\ttest: -0.5438398\tbest: -0.5438398 (237)\ttotal: 5m 35s\tremaining: 6m 9s\n",
      "238:\tlearn: -0.4892096\ttest: -0.5437815\tbest: -0.5437815 (238)\ttotal: 5m 36s\tremaining: 6m 7s\n",
      "239:\tlearn: -0.4888749\ttest: -0.5436214\tbest: -0.5436214 (239)\ttotal: 5m 38s\tremaining: 6m 6s\n",
      "240:\tlearn: -0.4883683\ttest: -0.5433734\tbest: -0.5433734 (240)\ttotal: 5m 39s\tremaining: 6m 5s\n",
      "241:\tlearn: -0.4878859\ttest: -0.5431263\tbest: -0.5431263 (241)\ttotal: 5m 41s\tremaining: 6m 3s\n",
      "242:\tlearn: -0.4875683\ttest: -0.5429979\tbest: -0.5429979 (242)\ttotal: 5m 42s\tremaining: 6m 2s\n",
      "243:\tlearn: -0.4872245\ttest: -0.5427884\tbest: -0.5427884 (243)\ttotal: 5m 43s\tremaining: 6m\n",
      "244:\tlearn: -0.4870515\ttest: -0.5427086\tbest: -0.5427086 (244)\ttotal: 5m 45s\tremaining: 5m 59s\n",
      "245:\tlearn: -0.4867022\ttest: -0.5425130\tbest: -0.5425130 (245)\ttotal: 5m 46s\tremaining: 5m 58s\n",
      "246:\tlearn: -0.4863243\ttest: -0.5424554\tbest: -0.5424554 (246)\ttotal: 5m 48s\tremaining: 5m 56s\n",
      "247:\tlearn: -0.4859587\ttest: -0.5423363\tbest: -0.5423363 (247)\ttotal: 5m 49s\tremaining: 5m 55s\n",
      "248:\tlearn: -0.4856097\ttest: -0.5422114\tbest: -0.5422114 (248)\ttotal: 5m 51s\tremaining: 5m 53s\n",
      "249:\tlearn: -0.4853700\ttest: -0.5420784\tbest: -0.5420784 (249)\ttotal: 5m 52s\tremaining: 5m 52s\n",
      "250:\tlearn: -0.4851657\ttest: -0.5420417\tbest: -0.5420417 (250)\ttotal: 5m 53s\tremaining: 5m 51s\n",
      "251:\tlearn: -0.4848993\ttest: -0.5419291\tbest: -0.5419291 (251)\ttotal: 5m 55s\tremaining: 5m 49s\n",
      "252:\tlearn: -0.4844002\ttest: -0.5418119\tbest: -0.5418119 (252)\ttotal: 5m 56s\tremaining: 5m 48s\n",
      "253:\tlearn: -0.4840201\ttest: -0.5416856\tbest: -0.5416856 (253)\ttotal: 5m 58s\tremaining: 5m 46s\n",
      "254:\tlearn: -0.4837057\ttest: -0.5415497\tbest: -0.5415497 (254)\ttotal: 5m 59s\tremaining: 5m 45s\n",
      "255:\tlearn: -0.4834766\ttest: -0.5414339\tbest: -0.5414339 (255)\ttotal: 6m\tremaining: 5m 44s\n",
      "256:\tlearn: -0.4830419\ttest: -0.5411581\tbest: -0.5411581 (256)\ttotal: 6m 2s\tremaining: 5m 42s\n",
      "257:\tlearn: -0.4826007\ttest: -0.5409693\tbest: -0.5409693 (257)\ttotal: 6m 3s\tremaining: 5m 41s\n",
      "258:\tlearn: -0.4823096\ttest: -0.5407987\tbest: -0.5407987 (258)\ttotal: 6m 5s\tremaining: 5m 39s\n",
      "259:\tlearn: -0.4819929\ttest: -0.5406527\tbest: -0.5406527 (259)\ttotal: 6m 6s\tremaining: 5m 38s\n",
      "260:\tlearn: -0.4816707\ttest: -0.5405099\tbest: -0.5405099 (260)\ttotal: 6m 8s\tremaining: 5m 37s\n",
      "261:\tlearn: -0.4814340\ttest: -0.5404097\tbest: -0.5404097 (261)\ttotal: 6m 9s\tremaining: 5m 35s\n",
      "262:\tlearn: -0.4811174\ttest: -0.5403044\tbest: -0.5403044 (262)\ttotal: 6m 10s\tremaining: 5m 34s\n"
     ]
    },
    {
     "name": "stdout",
     "output_type": "stream",
     "text": [
      "263:\tlearn: -0.4807394\ttest: -0.5401011\tbest: -0.5401011 (263)\ttotal: 6m 12s\tremaining: 5m 32s\n",
      "264:\tlearn: -0.4804828\ttest: -0.5400371\tbest: -0.5400371 (264)\ttotal: 6m 13s\tremaining: 5m 31s\n",
      "265:\tlearn: -0.4802541\ttest: -0.5399723\tbest: -0.5399723 (265)\ttotal: 6m 15s\tremaining: 5m 30s\n",
      "266:\tlearn: -0.4800185\ttest: -0.5399104\tbest: -0.5399104 (266)\ttotal: 6m 16s\tremaining: 5m 28s\n",
      "267:\tlearn: -0.4796494\ttest: -0.5397477\tbest: -0.5397477 (267)\ttotal: 6m 17s\tremaining: 5m 27s\n",
      "268:\tlearn: -0.4794352\ttest: -0.5396623\tbest: -0.5396623 (268)\ttotal: 6m 19s\tremaining: 5m 25s\n",
      "269:\tlearn: -0.4790532\ttest: -0.5395071\tbest: -0.5395071 (269)\ttotal: 6m 20s\tremaining: 5m 24s\n",
      "270:\tlearn: -0.4785645\ttest: -0.5392347\tbest: -0.5392347 (270)\ttotal: 6m 22s\tremaining: 5m 22s\n",
      "271:\tlearn: -0.4782714\ttest: -0.5390962\tbest: -0.5390962 (271)\ttotal: 6m 23s\tremaining: 5m 21s\n",
      "272:\tlearn: -0.4779543\ttest: -0.5388993\tbest: -0.5388993 (272)\ttotal: 6m 25s\tremaining: 5m 20s\n",
      "273:\tlearn: -0.4775852\ttest: -0.5388691\tbest: -0.5388691 (273)\ttotal: 6m 26s\tremaining: 5m 18s\n",
      "274:\tlearn: -0.4772183\ttest: -0.5386671\tbest: -0.5386671 (274)\ttotal: 6m 28s\tremaining: 5m 17s\n",
      "275:\tlearn: -0.4769685\ttest: -0.5386332\tbest: -0.5386332 (275)\ttotal: 6m 29s\tremaining: 5m 16s\n",
      "276:\tlearn: -0.4766698\ttest: -0.5384386\tbest: -0.5384386 (276)\ttotal: 6m 30s\tremaining: 5m 14s\n",
      "277:\tlearn: -0.4764292\ttest: -0.5383079\tbest: -0.5383079 (277)\ttotal: 6m 32s\tremaining: 5m 13s\n",
      "278:\tlearn: -0.4761053\ttest: -0.5381453\tbest: -0.5381453 (278)\ttotal: 6m 33s\tremaining: 5m 11s\n",
      "279:\tlearn: -0.4757589\ttest: -0.5379921\tbest: -0.5379921 (279)\ttotal: 6m 35s\tremaining: 5m 10s\n",
      "280:\tlearn: -0.4752750\ttest: -0.5378303\tbest: -0.5378303 (280)\ttotal: 6m 36s\tremaining: 5m 9s\n",
      "281:\tlearn: -0.4748365\ttest: -0.5377442\tbest: -0.5377442 (281)\ttotal: 6m 37s\tremaining: 5m 7s\n",
      "282:\tlearn: -0.4746262\ttest: -0.5376548\tbest: -0.5376548 (282)\ttotal: 6m 39s\tremaining: 5m 6s\n",
      "283:\tlearn: -0.4742273\ttest: -0.5374451\tbest: -0.5374451 (283)\ttotal: 6m 40s\tremaining: 5m 4s\n",
      "284:\tlearn: -0.4740338\ttest: -0.5373924\tbest: -0.5373924 (284)\ttotal: 6m 42s\tremaining: 5m 3s\n",
      "285:\tlearn: -0.4735807\ttest: -0.5372296\tbest: -0.5372296 (285)\ttotal: 6m 43s\tremaining: 5m 2s\n",
      "286:\tlearn: -0.4732503\ttest: -0.5371514\tbest: -0.5371514 (286)\ttotal: 6m 45s\tremaining: 5m\n",
      "287:\tlearn: -0.4729187\ttest: -0.5370275\tbest: -0.5370275 (287)\ttotal: 6m 46s\tremaining: 4m 59s\n",
      "288:\tlearn: -0.4726826\ttest: -0.5369196\tbest: -0.5369196 (288)\ttotal: 6m 47s\tremaining: 4m 57s\n",
      "289:\tlearn: -0.4725349\ttest: -0.5368878\tbest: -0.5368878 (289)\ttotal: 6m 49s\tremaining: 4m 56s\n",
      "290:\tlearn: -0.4722325\ttest: -0.5367293\tbest: -0.5367293 (290)\ttotal: 6m 50s\tremaining: 4m 54s\n",
      "291:\tlearn: -0.4719313\ttest: -0.5366188\tbest: -0.5366188 (291)\ttotal: 6m 52s\tremaining: 4m 53s\n",
      "292:\tlearn: -0.4717212\ttest: -0.5365792\tbest: -0.5365792 (292)\ttotal: 6m 53s\tremaining: 4m 52s\n",
      "293:\tlearn: -0.4714479\ttest: -0.5364664\tbest: -0.5364664 (293)\ttotal: 6m 54s\tremaining: 4m 50s\n",
      "294:\tlearn: -0.4710142\ttest: -0.5362707\tbest: -0.5362707 (294)\ttotal: 6m 56s\tremaining: 4m 49s\n",
      "295:\tlearn: -0.4707300\ttest: -0.5361320\tbest: -0.5361320 (295)\ttotal: 6m 57s\tremaining: 4m 47s\n",
      "296:\tlearn: -0.4705232\ttest: -0.5360394\tbest: -0.5360394 (296)\ttotal: 6m 59s\tremaining: 4m 46s\n",
      "297:\tlearn: -0.4703624\ttest: -0.5360353\tbest: -0.5360353 (297)\ttotal: 7m\tremaining: 4m 45s\n",
      "298:\tlearn: -0.4700231\ttest: -0.5359119\tbest: -0.5359119 (298)\ttotal: 7m 2s\tremaining: 4m 43s\n",
      "299:\tlearn: -0.4697099\ttest: -0.5358128\tbest: -0.5358128 (299)\ttotal: 7m 3s\tremaining: 4m 42s\n",
      "300:\tlearn: -0.4693726\ttest: -0.5356063\tbest: -0.5356063 (300)\ttotal: 7m 4s\tremaining: 4m 40s\n",
      "301:\tlearn: -0.4689637\ttest: -0.5354480\tbest: -0.5354480 (301)\ttotal: 7m 6s\tremaining: 4m 39s\n",
      "302:\tlearn: -0.4687736\ttest: -0.5353828\tbest: -0.5353828 (302)\ttotal: 7m 7s\tremaining: 4m 38s\n",
      "303:\tlearn: -0.4685608\ttest: -0.5352639\tbest: -0.5352639 (303)\ttotal: 7m 9s\tremaining: 4m 36s\n",
      "304:\tlearn: -0.4682360\ttest: -0.5352333\tbest: -0.5352333 (304)\ttotal: 7m 10s\tremaining: 4m 35s\n",
      "305:\tlearn: -0.4678790\ttest: -0.5351053\tbest: -0.5351053 (305)\ttotal: 7m 12s\tremaining: 4m 33s\n",
      "306:\tlearn: -0.4673532\ttest: -0.5348790\tbest: -0.5348790 (306)\ttotal: 7m 13s\tremaining: 4m 32s\n",
      "307:\tlearn: -0.4670216\ttest: -0.5347157\tbest: -0.5347157 (307)\ttotal: 7m 14s\tremaining: 4m 31s\n",
      "308:\tlearn: -0.4666207\ttest: -0.5345376\tbest: -0.5345376 (308)\ttotal: 7m 16s\tremaining: 4m 29s\n",
      "309:\tlearn: -0.4662214\ttest: -0.5344010\tbest: -0.5344010 (309)\ttotal: 7m 17s\tremaining: 4m 28s\n",
      "310:\tlearn: -0.4658732\ttest: -0.5342352\tbest: -0.5342352 (310)\ttotal: 7m 19s\tremaining: 4m 26s\n",
      "311:\tlearn: -0.4655288\ttest: -0.5341415\tbest: -0.5341415 (311)\ttotal: 7m 20s\tremaining: 4m 25s\n",
      "312:\tlearn: -0.4651337\ttest: -0.5339380\tbest: -0.5339380 (312)\ttotal: 7m 22s\tremaining: 4m 24s\n",
      "313:\tlearn: -0.4647143\ttest: -0.5337226\tbest: -0.5337226 (313)\ttotal: 7m 23s\tremaining: 4m 22s\n",
      "314:\tlearn: -0.4644643\ttest: -0.5336166\tbest: -0.5336166 (314)\ttotal: 7m 24s\tremaining: 4m 21s\n",
      "315:\tlearn: -0.4642268\ttest: -0.5335639\tbest: -0.5335639 (315)\ttotal: 7m 26s\tremaining: 4m 19s\n",
      "316:\tlearn: -0.4640148\ttest: -0.5334915\tbest: -0.5334915 (316)\ttotal: 7m 27s\tremaining: 4m 18s\n",
      "317:\tlearn: -0.4637694\ttest: -0.5333894\tbest: -0.5333894 (317)\ttotal: 7m 29s\tremaining: 4m 17s\n",
      "318:\tlearn: -0.4634289\ttest: -0.5333064\tbest: -0.5333064 (318)\ttotal: 7m 30s\tremaining: 4m 15s\n",
      "319:\tlearn: -0.4633010\ttest: -0.5333051\tbest: -0.5333051 (319)\ttotal: 7m 31s\tremaining: 4m 14s\n",
      "320:\tlearn: -0.4629671\ttest: -0.5332971\tbest: -0.5332971 (320)\ttotal: 7m 33s\tremaining: 4m 12s\n",
      "321:\tlearn: -0.4627763\ttest: -0.5332140\tbest: -0.5332140 (321)\ttotal: 7m 34s\tremaining: 4m 11s\n",
      "322:\tlearn: -0.4624604\ttest: -0.5330399\tbest: -0.5330399 (322)\ttotal: 7m 36s\tremaining: 4m 9s\n",
      "323:\tlearn: -0.4622473\ttest: -0.5329728\tbest: -0.5329728 (323)\ttotal: 7m 37s\tremaining: 4m 8s\n",
      "324:\tlearn: -0.4618883\ttest: -0.5328642\tbest: -0.5328642 (324)\ttotal: 7m 38s\tremaining: 4m 7s\n",
      "325:\tlearn: -0.4616409\ttest: -0.5327277\tbest: -0.5327277 (325)\ttotal: 7m 40s\tremaining: 4m 5s\n",
      "326:\tlearn: -0.4613971\ttest: -0.5325734\tbest: -0.5325734 (326)\ttotal: 7m 41s\tremaining: 4m 4s\n",
      "327:\tlearn: -0.4609898\ttest: -0.5323846\tbest: -0.5323846 (327)\ttotal: 7m 43s\tremaining: 4m 2s\n",
      "328:\tlearn: -0.4607393\ttest: -0.5322793\tbest: -0.5322793 (328)\ttotal: 7m 44s\tremaining: 4m 1s\n",
      "329:\tlearn: -0.4604915\ttest: -0.5322292\tbest: -0.5322292 (329)\ttotal: 7m 45s\tremaining: 4m\n",
      "330:\tlearn: -0.4601279\ttest: -0.5321079\tbest: -0.5321079 (330)\ttotal: 7m 47s\tremaining: 3m 58s\n",
      "331:\tlearn: -0.4598176\ttest: -0.5318814\tbest: -0.5318814 (331)\ttotal: 7m 48s\tremaining: 3m 57s\n",
      "332:\tlearn: -0.4594383\ttest: -0.5317000\tbest: -0.5317000 (332)\ttotal: 7m 50s\tremaining: 3m 55s\n",
      "333:\tlearn: -0.4589671\ttest: -0.5315211\tbest: -0.5315211 (333)\ttotal: 7m 51s\tremaining: 3m 54s\n",
      "334:\tlearn: -0.4586293\ttest: -0.5314033\tbest: -0.5314033 (334)\ttotal: 7m 53s\tremaining: 3m 53s\n",
      "335:\tlearn: -0.4584143\ttest: -0.5313951\tbest: -0.5313951 (335)\ttotal: 7m 54s\tremaining: 3m 51s\n",
      "336:\tlearn: -0.4580228\ttest: -0.5312260\tbest: -0.5312260 (336)\ttotal: 7m 56s\tremaining: 3m 50s\n",
      "337:\tlearn: -0.4578375\ttest: -0.5311185\tbest: -0.5311185 (337)\ttotal: 7m 57s\tremaining: 3m 48s\n",
      "338:\tlearn: -0.4575463\ttest: -0.5309881\tbest: -0.5309881 (338)\ttotal: 7m 58s\tremaining: 3m 47s\n",
      "339:\tlearn: -0.4572051\ttest: -0.5308644\tbest: -0.5308644 (339)\ttotal: 8m\tremaining: 3m 46s\n",
      "340:\tlearn: -0.4570805\ttest: -0.5308442\tbest: -0.5308442 (340)\ttotal: 8m 1s\tremaining: 3m 44s\n",
      "341:\tlearn: -0.4567700\ttest: -0.5306260\tbest: -0.5306260 (341)\ttotal: 8m 3s\tremaining: 3m 43s\n",
      "342:\tlearn: -0.4564219\ttest: -0.5305045\tbest: -0.5305045 (342)\ttotal: 8m 4s\tremaining: 3m 41s\n",
      "343:\tlearn: -0.4561260\ttest: -0.5304833\tbest: -0.5304833 (343)\ttotal: 8m 5s\tremaining: 3m 40s\n",
      "344:\tlearn: -0.4557020\ttest: -0.5302754\tbest: -0.5302754 (344)\ttotal: 8m 7s\tremaining: 3m 38s\n",
      "345:\tlearn: -0.4553590\ttest: -0.5301422\tbest: -0.5301422 (345)\ttotal: 8m 8s\tremaining: 3m 37s\n",
      "346:\tlearn: -0.4549507\ttest: -0.5299852\tbest: -0.5299852 (346)\ttotal: 8m 10s\tremaining: 3m 36s\n",
      "347:\tlearn: -0.4547073\ttest: -0.5299658\tbest: -0.5299658 (347)\ttotal: 8m 11s\tremaining: 3m 34s\n",
      "348:\tlearn: -0.4544489\ttest: -0.5298830\tbest: -0.5298830 (348)\ttotal: 8m 13s\tremaining: 3m 33s\n",
      "349:\tlearn: -0.4541889\ttest: -0.5298024\tbest: -0.5298024 (349)\ttotal: 8m 14s\tremaining: 3m 31s\n"
     ]
    },
    {
     "name": "stdout",
     "output_type": "stream",
     "text": [
      "350:\tlearn: -0.4540383\ttest: -0.5297920\tbest: -0.5297920 (350)\ttotal: 8m 15s\tremaining: 3m 30s\n",
      "351:\tlearn: -0.4538340\ttest: -0.5297388\tbest: -0.5297388 (351)\ttotal: 8m 17s\tremaining: 3m 29s\n",
      "352:\tlearn: -0.4535360\ttest: -0.5296438\tbest: -0.5296438 (352)\ttotal: 8m 18s\tremaining: 3m 27s\n",
      "353:\tlearn: -0.4533432\ttest: -0.5296351\tbest: -0.5296351 (353)\ttotal: 8m 20s\tremaining: 3m 26s\n",
      "354:\tlearn: -0.4531104\ttest: -0.5296177\tbest: -0.5296177 (354)\ttotal: 8m 21s\tremaining: 3m 24s\n",
      "355:\tlearn: -0.4529329\ttest: -0.5295579\tbest: -0.5295579 (355)\ttotal: 8m 22s\tremaining: 3m 23s\n",
      "356:\tlearn: -0.4527199\ttest: -0.5295048\tbest: -0.5295048 (356)\ttotal: 8m 24s\tremaining: 3m 22s\n",
      "357:\tlearn: -0.4525385\ttest: -0.5294449\tbest: -0.5294449 (357)\ttotal: 8m 25s\tremaining: 3m 20s\n",
      "358:\tlearn: -0.4523481\ttest: -0.5294147\tbest: -0.5294147 (358)\ttotal: 8m 27s\tremaining: 3m 19s\n",
      "359:\tlearn: -0.4521050\ttest: -0.5293410\tbest: -0.5293410 (359)\ttotal: 8m 28s\tremaining: 3m 17s\n",
      "360:\tlearn: -0.4516418\ttest: -0.5291262\tbest: -0.5291262 (360)\ttotal: 8m 30s\tremaining: 3m 16s\n",
      "361:\tlearn: -0.4511915\ttest: -0.5289378\tbest: -0.5289378 (361)\ttotal: 8m 31s\tremaining: 3m 15s\n",
      "362:\tlearn: -0.4509834\ttest: -0.5288215\tbest: -0.5288215 (362)\ttotal: 8m 32s\tremaining: 3m 13s\n",
      "363:\tlearn: -0.4507242\ttest: -0.5287587\tbest: -0.5287587 (363)\ttotal: 8m 34s\tremaining: 3m 12s\n",
      "364:\tlearn: -0.4504501\ttest: -0.5287116\tbest: -0.5287116 (364)\ttotal: 8m 35s\tremaining: 3m 10s\n",
      "365:\tlearn: -0.4502332\ttest: -0.5286747\tbest: -0.5286747 (365)\ttotal: 8m 37s\tremaining: 3m 9s\n",
      "366:\tlearn: -0.4498218\ttest: -0.5284796\tbest: -0.5284796 (366)\ttotal: 8m 38s\tremaining: 3m 7s\n",
      "367:\tlearn: -0.4495417\ttest: -0.5283815\tbest: -0.5283815 (367)\ttotal: 8m 40s\tremaining: 3m 6s\n",
      "368:\tlearn: -0.4492137\ttest: -0.5281942\tbest: -0.5281942 (368)\ttotal: 8m 41s\tremaining: 3m 5s\n",
      "369:\tlearn: -0.4489912\ttest: -0.5281228\tbest: -0.5281228 (369)\ttotal: 8m 42s\tremaining: 3m 3s\n",
      "370:\tlearn: -0.4486685\ttest: -0.5280013\tbest: -0.5280013 (370)\ttotal: 8m 44s\tremaining: 3m 2s\n",
      "371:\tlearn: -0.4484423\ttest: -0.5278929\tbest: -0.5278929 (371)\ttotal: 8m 45s\tremaining: 3m\n",
      "372:\tlearn: -0.4482285\ttest: -0.5278060\tbest: -0.5278060 (372)\ttotal: 8m 47s\tremaining: 2m 59s\n",
      "373:\tlearn: -0.4479859\ttest: -0.5277856\tbest: -0.5277856 (373)\ttotal: 8m 48s\tremaining: 2m 58s\n",
      "374:\tlearn: -0.4477471\ttest: -0.5277344\tbest: -0.5277344 (374)\ttotal: 8m 49s\tremaining: 2m 56s\n",
      "375:\tlearn: -0.4475251\ttest: -0.5276522\tbest: -0.5276522 (375)\ttotal: 8m 51s\tremaining: 2m 55s\n",
      "376:\tlearn: -0.4473189\ttest: -0.5276463\tbest: -0.5276463 (376)\ttotal: 8m 52s\tremaining: 2m 53s\n",
      "377:\tlearn: -0.4471290\ttest: -0.5276010\tbest: -0.5276010 (377)\ttotal: 8m 54s\tremaining: 2m 52s\n",
      "378:\tlearn: -0.4468783\ttest: -0.5275407\tbest: -0.5275407 (378)\ttotal: 8m 55s\tremaining: 2m 51s\n",
      "379:\tlearn: -0.4465131\ttest: -0.5273521\tbest: -0.5273521 (379)\ttotal: 8m 57s\tremaining: 2m 49s\n",
      "380:\tlearn: -0.4461786\ttest: -0.5271880\tbest: -0.5271880 (380)\ttotal: 8m 58s\tremaining: 2m 48s\n",
      "381:\tlearn: -0.4459969\ttest: -0.5270922\tbest: -0.5270922 (381)\ttotal: 8m 59s\tremaining: 2m 46s\n",
      "382:\tlearn: -0.4457285\ttest: -0.5269614\tbest: -0.5269614 (382)\ttotal: 9m 1s\tremaining: 2m 45s\n",
      "383:\tlearn: -0.4454058\ttest: -0.5269039\tbest: -0.5269039 (383)\ttotal: 9m 2s\tremaining: 2m 43s\n",
      "384:\tlearn: -0.4450269\ttest: -0.5267666\tbest: -0.5267666 (384)\ttotal: 9m 4s\tremaining: 2m 42s\n",
      "385:\tlearn: -0.4448199\ttest: -0.5266315\tbest: -0.5266315 (385)\ttotal: 9m 5s\tremaining: 2m 41s\n",
      "386:\tlearn: -0.4446265\ttest: -0.5265337\tbest: -0.5265337 (386)\ttotal: 9m 6s\tremaining: 2m 39s\n",
      "387:\tlearn: -0.4442649\ttest: -0.5264609\tbest: -0.5264609 (387)\ttotal: 9m 8s\tremaining: 2m 38s\n",
      "388:\tlearn: -0.4439396\ttest: -0.5262901\tbest: -0.5262901 (388)\ttotal: 9m 9s\tremaining: 2m 36s\n",
      "389:\tlearn: -0.4436844\ttest: -0.5261135\tbest: -0.5261135 (389)\ttotal: 9m 11s\tremaining: 2m 35s\n",
      "390:\tlearn: -0.4433510\ttest: -0.5260180\tbest: -0.5260180 (390)\ttotal: 9m 12s\tremaining: 2m 34s\n",
      "391:\tlearn: -0.4430086\ttest: -0.5258535\tbest: -0.5258535 (391)\ttotal: 9m 14s\tremaining: 2m 32s\n",
      "392:\tlearn: -0.4427919\ttest: -0.5257239\tbest: -0.5257239 (392)\ttotal: 9m 15s\tremaining: 2m 31s\n",
      "393:\tlearn: -0.4425469\ttest: -0.5256443\tbest: -0.5256443 (393)\ttotal: 9m 16s\tremaining: 2m 29s\n",
      "394:\tlearn: -0.4422094\ttest: -0.5255121\tbest: -0.5255121 (394)\ttotal: 9m 18s\tremaining: 2m 28s\n",
      "395:\tlearn: -0.4418614\ttest: -0.5252456\tbest: -0.5252456 (395)\ttotal: 9m 19s\tremaining: 2m 27s\n",
      "396:\tlearn: -0.4416818\ttest: -0.5252136\tbest: -0.5252136 (396)\ttotal: 9m 21s\tremaining: 2m 25s\n",
      "397:\tlearn: -0.4414683\ttest: -0.5251344\tbest: -0.5251344 (397)\ttotal: 9m 22s\tremaining: 2m 24s\n",
      "398:\tlearn: -0.4411225\ttest: -0.5250154\tbest: -0.5250154 (398)\ttotal: 9m 23s\tremaining: 2m 22s\n",
      "399:\tlearn: -0.4408614\ttest: -0.5249502\tbest: -0.5249502 (399)\ttotal: 9m 25s\tremaining: 2m 21s\n",
      "400:\tlearn: -0.4405440\ttest: -0.5247968\tbest: -0.5247968 (400)\ttotal: 9m 26s\tremaining: 2m 19s\n",
      "401:\tlearn: -0.4403072\ttest: -0.5247014\tbest: -0.5247014 (401)\ttotal: 9m 28s\tremaining: 2m 18s\n",
      "402:\tlearn: -0.4400534\ttest: -0.5246241\tbest: -0.5246241 (402)\ttotal: 9m 29s\tremaining: 2m 17s\n",
      "403:\tlearn: -0.4398639\ttest: -0.5245440\tbest: -0.5245440 (403)\ttotal: 9m 31s\tremaining: 2m 15s\n",
      "404:\tlearn: -0.4396051\ttest: -0.5244906\tbest: -0.5244906 (404)\ttotal: 9m 32s\tremaining: 2m 14s\n",
      "405:\tlearn: -0.4393512\ttest: -0.5244459\tbest: -0.5244459 (405)\ttotal: 9m 33s\tremaining: 2m 12s\n",
      "406:\tlearn: -0.4390950\ttest: -0.5244170\tbest: -0.5244170 (406)\ttotal: 9m 35s\tremaining: 2m 11s\n",
      "407:\tlearn: -0.4389026\ttest: -0.5244069\tbest: -0.5244069 (407)\ttotal: 9m 36s\tremaining: 2m 10s\n",
      "408:\tlearn: -0.4387134\ttest: -0.5243467\tbest: -0.5243467 (408)\ttotal: 9m 38s\tremaining: 2m 8s\n",
      "409:\tlearn: -0.4384915\ttest: -0.5243239\tbest: -0.5243239 (409)\ttotal: 9m 39s\tremaining: 2m 7s\n",
      "410:\tlearn: -0.4382384\ttest: -0.5242497\tbest: -0.5242497 (410)\ttotal: 9m 41s\tremaining: 2m 5s\n",
      "411:\tlearn: -0.4378136\ttest: -0.5240320\tbest: -0.5240320 (411)\ttotal: 9m 42s\tremaining: 2m 4s\n",
      "412:\tlearn: -0.4376121\ttest: -0.5239331\tbest: -0.5239331 (412)\ttotal: 9m 44s\tremaining: 2m 3s\n",
      "413:\tlearn: -0.4373385\ttest: -0.5237770\tbest: -0.5237770 (413)\ttotal: 9m 45s\tremaining: 2m 1s\n",
      "414:\tlearn: -0.4369824\ttest: -0.5236578\tbest: -0.5236578 (414)\ttotal: 9m 46s\tremaining: 2m\n",
      "415:\tlearn: -0.4367526\ttest: -0.5236053\tbest: -0.5236053 (415)\ttotal: 9m 48s\tremaining: 1m 58s\n",
      "416:\tlearn: -0.4364781\ttest: -0.5234660\tbest: -0.5234660 (416)\ttotal: 9m 49s\tremaining: 1m 57s\n",
      "417:\tlearn: -0.4362329\ttest: -0.5234172\tbest: -0.5234172 (417)\ttotal: 9m 51s\tremaining: 1m 55s\n",
      "418:\tlearn: -0.4360688\ttest: -0.5233527\tbest: -0.5233527 (418)\ttotal: 9m 52s\tremaining: 1m 54s\n",
      "419:\tlearn: -0.4356933\ttest: -0.5232235\tbest: -0.5232235 (419)\ttotal: 9m 54s\tremaining: 1m 53s\n",
      "420:\tlearn: -0.4354497\ttest: -0.5230966\tbest: -0.5230966 (420)\ttotal: 9m 55s\tremaining: 1m 51s\n",
      "421:\tlearn: -0.4352083\ttest: -0.5229808\tbest: -0.5229808 (421)\ttotal: 9m 56s\tremaining: 1m 50s\n",
      "422:\tlearn: -0.4349834\ttest: -0.5229008\tbest: -0.5229008 (422)\ttotal: 9m 58s\tremaining: 1m 48s\n",
      "423:\tlearn: -0.4346477\ttest: -0.5227005\tbest: -0.5227005 (423)\ttotal: 9m 59s\tremaining: 1m 47s\n",
      "424:\tlearn: -0.4343506\ttest: -0.5226148\tbest: -0.5226148 (424)\ttotal: 10m 1s\tremaining: 1m 46s\n",
      "425:\tlearn: -0.4342070\ttest: -0.5225907\tbest: -0.5225907 (425)\ttotal: 10m 2s\tremaining: 1m 44s\n",
      "426:\tlearn: -0.4340125\ttest: -0.5225449\tbest: -0.5225449 (426)\ttotal: 10m 3s\tremaining: 1m 43s\n",
      "427:\tlearn: -0.4337109\ttest: -0.5224930\tbest: -0.5224930 (427)\ttotal: 10m 5s\tremaining: 1m 41s\n",
      "428:\tlearn: -0.4335591\ttest: -0.5224478\tbest: -0.5224478 (428)\ttotal: 10m 6s\tremaining: 1m 40s\n",
      "429:\tlearn: -0.4333231\ttest: -0.5224210\tbest: -0.5224210 (429)\ttotal: 10m 8s\tremaining: 1m 39s\n",
      "430:\tlearn: -0.4330647\ttest: -0.5224114\tbest: -0.5224114 (430)\ttotal: 10m 9s\tremaining: 1m 37s\n",
      "431:\tlearn: -0.4325313\ttest: -0.5221996\tbest: -0.5221996 (431)\ttotal: 10m 11s\tremaining: 1m 36s\n",
      "432:\tlearn: -0.4322427\ttest: -0.5220926\tbest: -0.5220926 (432)\ttotal: 10m 12s\tremaining: 1m 34s\n",
      "433:\tlearn: -0.4320533\ttest: -0.5220047\tbest: -0.5220047 (433)\ttotal: 10m 13s\tremaining: 1m 33s\n",
      "434:\tlearn: -0.4317990\ttest: -0.5219510\tbest: -0.5219510 (434)\ttotal: 10m 15s\tremaining: 1m 31s\n",
      "435:\tlearn: -0.4315652\ttest: -0.5218610\tbest: -0.5218610 (435)\ttotal: 10m 16s\tremaining: 1m 30s\n",
      "436:\tlearn: -0.4311321\ttest: -0.5216748\tbest: -0.5216748 (436)\ttotal: 10m 18s\tremaining: 1m 29s\n"
     ]
    },
    {
     "name": "stdout",
     "output_type": "stream",
     "text": [
      "437:\tlearn: -0.4308076\ttest: -0.5215110\tbest: -0.5215110 (437)\ttotal: 10m 19s\tremaining: 1m 27s\n",
      "438:\tlearn: -0.4305817\ttest: -0.5213947\tbest: -0.5213947 (438)\ttotal: 10m 21s\tremaining: 1m 26s\n",
      "439:\tlearn: -0.4303912\ttest: -0.5213244\tbest: -0.5213244 (439)\ttotal: 10m 22s\tremaining: 1m 24s\n",
      "440:\tlearn: -0.4301525\ttest: -0.5212284\tbest: -0.5212284 (440)\ttotal: 10m 23s\tremaining: 1m 23s\n",
      "441:\tlearn: -0.4298060\ttest: -0.5210300\tbest: -0.5210300 (441)\ttotal: 10m 25s\tremaining: 1m 22s\n",
      "442:\tlearn: -0.4295045\ttest: -0.5208625\tbest: -0.5208625 (442)\ttotal: 10m 26s\tremaining: 1m 20s\n",
      "443:\tlearn: -0.4292532\ttest: -0.5207993\tbest: -0.5207993 (443)\ttotal: 10m 28s\tremaining: 1m 19s\n",
      "444:\tlearn: -0.4289557\ttest: -0.5206806\tbest: -0.5206806 (444)\ttotal: 10m 29s\tremaining: 1m 17s\n",
      "445:\tlearn: -0.4287546\ttest: -0.5206257\tbest: -0.5206257 (445)\ttotal: 10m 31s\tremaining: 1m 16s\n",
      "446:\tlearn: -0.4285496\ttest: -0.5205813\tbest: -0.5205813 (446)\ttotal: 10m 32s\tremaining: 1m 14s\n",
      "447:\tlearn: -0.4282278\ttest: -0.5204571\tbest: -0.5204571 (447)\ttotal: 10m 33s\tremaining: 1m 13s\n",
      "448:\tlearn: -0.4279486\ttest: -0.5203770\tbest: -0.5203770 (448)\ttotal: 10m 35s\tremaining: 1m 12s\n",
      "449:\tlearn: -0.4277163\ttest: -0.5203549\tbest: -0.5203549 (449)\ttotal: 10m 36s\tremaining: 1m 10s\n",
      "450:\tlearn: -0.4273713\ttest: -0.5202158\tbest: -0.5202158 (450)\ttotal: 10m 38s\tremaining: 1m 9s\n",
      "451:\tlearn: -0.4271005\ttest: -0.5201479\tbest: -0.5201479 (451)\ttotal: 10m 39s\tremaining: 1m 7s\n",
      "452:\tlearn: -0.4269337\ttest: -0.5200856\tbest: -0.5200856 (452)\ttotal: 10m 41s\tremaining: 1m 6s\n",
      "453:\tlearn: -0.4267921\ttest: -0.5200516\tbest: -0.5200516 (453)\ttotal: 10m 42s\tremaining: 1m 5s\n",
      "454:\tlearn: -0.4266081\ttest: -0.5199981\tbest: -0.5199981 (454)\ttotal: 10m 43s\tremaining: 1m 3s\n",
      "455:\tlearn: -0.4263431\ttest: -0.5199569\tbest: -0.5199569 (455)\ttotal: 10m 45s\tremaining: 1m 2s\n",
      "456:\tlearn: -0.4261328\ttest: -0.5199018\tbest: -0.5199018 (456)\ttotal: 10m 46s\tremaining: 1m\n",
      "457:\tlearn: -0.4258997\ttest: -0.5198246\tbest: -0.5198246 (457)\ttotal: 10m 48s\tremaining: 59.4s\n",
      "458:\tlearn: -0.4256681\ttest: -0.5196825\tbest: -0.5196825 (458)\ttotal: 10m 49s\tremaining: 58s\n",
      "459:\tlearn: -0.4254538\ttest: -0.5196264\tbest: -0.5196264 (459)\ttotal: 10m 50s\tremaining: 56.6s\n",
      "460:\tlearn: -0.4252165\ttest: -0.5195733\tbest: -0.5195733 (460)\ttotal: 10m 52s\tremaining: 55.2s\n",
      "461:\tlearn: -0.4248477\ttest: -0.5194272\tbest: -0.5194272 (461)\ttotal: 10m 53s\tremaining: 53.8s\n",
      "462:\tlearn: -0.4246262\ttest: -0.5193858\tbest: -0.5193858 (462)\ttotal: 10m 55s\tremaining: 52.4s\n",
      "463:\tlearn: -0.4243191\ttest: -0.5193178\tbest: -0.5193178 (463)\ttotal: 10m 56s\tremaining: 51s\n",
      "464:\tlearn: -0.4239402\ttest: -0.5191743\tbest: -0.5191743 (464)\ttotal: 10m 58s\tremaining: 49.5s\n",
      "465:\tlearn: -0.4236805\ttest: -0.5190767\tbest: -0.5190767 (465)\ttotal: 10m 59s\tremaining: 48.1s\n",
      "466:\tlearn: -0.4234963\ttest: -0.5189781\tbest: -0.5189781 (466)\ttotal: 11m\tremaining: 46.7s\n",
      "467:\tlearn: -0.4232503\ttest: -0.5188540\tbest: -0.5188540 (467)\ttotal: 11m 2s\tremaining: 45.3s\n",
      "468:\tlearn: -0.4230211\ttest: -0.5187770\tbest: -0.5187770 (468)\ttotal: 11m 3s\tremaining: 43.9s\n",
      "469:\tlearn: -0.4227720\ttest: -0.5186569\tbest: -0.5186569 (469)\ttotal: 11m 5s\tremaining: 42.5s\n",
      "470:\tlearn: -0.4224811\ttest: -0.5185199\tbest: -0.5185199 (470)\ttotal: 11m 6s\tremaining: 41s\n",
      "471:\tlearn: -0.4222796\ttest: -0.5185150\tbest: -0.5185150 (471)\ttotal: 11m 8s\tremaining: 39.6s\n",
      "472:\tlearn: -0.4221371\ttest: -0.5184911\tbest: -0.5184911 (472)\ttotal: 11m 9s\tremaining: 38.2s\n",
      "473:\tlearn: -0.4219823\ttest: -0.5184626\tbest: -0.5184626 (473)\ttotal: 11m 10s\tremaining: 36.8s\n",
      "474:\tlearn: -0.4216806\ttest: -0.5182639\tbest: -0.5182639 (474)\ttotal: 11m 12s\tremaining: 35.4s\n",
      "475:\tlearn: -0.4213410\ttest: -0.5181275\tbest: -0.5181275 (475)\ttotal: 11m 13s\tremaining: 34s\n",
      "476:\tlearn: -0.4210766\ttest: -0.5179419\tbest: -0.5179419 (476)\ttotal: 11m 15s\tremaining: 32.6s\n",
      "477:\tlearn: -0.4208488\ttest: -0.5178683\tbest: -0.5178683 (477)\ttotal: 11m 16s\tremaining: 31.1s\n",
      "478:\tlearn: -0.4207070\ttest: -0.5178338\tbest: -0.5178338 (478)\ttotal: 11m 17s\tremaining: 29.7s\n",
      "479:\tlearn: -0.4204570\ttest: -0.5178015\tbest: -0.5178015 (479)\ttotal: 11m 19s\tremaining: 28.3s\n",
      "480:\tlearn: -0.4202558\ttest: -0.5176988\tbest: -0.5176988 (480)\ttotal: 11m 20s\tremaining: 26.9s\n",
      "481:\tlearn: -0.4199120\ttest: -0.5176353\tbest: -0.5176353 (481)\ttotal: 11m 22s\tremaining: 25.5s\n",
      "482:\tlearn: -0.4197120\ttest: -0.5175409\tbest: -0.5175409 (482)\ttotal: 11m 23s\tremaining: 24.1s\n",
      "483:\tlearn: -0.4192871\ttest: -0.5173130\tbest: -0.5173130 (483)\ttotal: 11m 25s\tremaining: 22.6s\n",
      "484:\tlearn: -0.4191494\ttest: -0.5173088\tbest: -0.5173088 (484)\ttotal: 11m 26s\tremaining: 21.2s\n",
      "485:\tlearn: -0.4189356\ttest: -0.5172351\tbest: -0.5172351 (485)\ttotal: 11m 27s\tremaining: 19.8s\n",
      "486:\tlearn: -0.4186320\ttest: -0.5171692\tbest: -0.5171692 (486)\ttotal: 11m 29s\tremaining: 18.4s\n",
      "487:\tlearn: -0.4184503\ttest: -0.5171220\tbest: -0.5171220 (487)\ttotal: 11m 30s\tremaining: 17s\n",
      "488:\tlearn: -0.4182550\ttest: -0.5170337\tbest: -0.5170337 (488)\ttotal: 11m 32s\tremaining: 15.6s\n",
      "489:\tlearn: -0.4180400\ttest: -0.5170523\tbest: -0.5170337 (488)\ttotal: 11m 33s\tremaining: 14.2s\n",
      "490:\tlearn: -0.4177794\ttest: -0.5170254\tbest: -0.5170254 (490)\ttotal: 11m 35s\tremaining: 12.7s\n",
      "491:\tlearn: -0.4175208\ttest: -0.5169506\tbest: -0.5169506 (491)\ttotal: 11m 36s\tremaining: 11.3s\n",
      "492:\tlearn: -0.4172923\ttest: -0.5168785\tbest: -0.5168785 (492)\ttotal: 11m 38s\tremaining: 9.91s\n",
      "493:\tlearn: -0.4170026\ttest: -0.5167597\tbest: -0.5167597 (493)\ttotal: 11m 39s\tremaining: 8.49s\n",
      "494:\tlearn: -0.4166721\ttest: -0.5166253\tbest: -0.5166253 (494)\ttotal: 11m 40s\tremaining: 7.08s\n",
      "495:\tlearn: -0.4164874\ttest: -0.5165231\tbest: -0.5165231 (495)\ttotal: 11m 42s\tremaining: 5.66s\n",
      "496:\tlearn: -0.4161530\ttest: -0.5164798\tbest: -0.5164798 (496)\ttotal: 11m 43s\tremaining: 4.25s\n",
      "497:\tlearn: -0.4158738\ttest: -0.5163544\tbest: -0.5163544 (497)\ttotal: 11m 45s\tremaining: 2.83s\n",
      "498:\tlearn: -0.4155030\ttest: -0.5162008\tbest: -0.5162008 (498)\ttotal: 11m 46s\tremaining: 1.42s\n",
      "499:\tlearn: -0.4151925\ttest: -0.5160938\tbest: -0.5160938 (499)\ttotal: 11m 48s\tremaining: 0us\n",
      "\n",
      "bestTest = -0.5160938239\n",
      "bestIteration = 499\n",
      "\n",
      "Shrink model to first 500 iterations.\n"
     ]
    },
    {
     "data": {
      "text/plain": [
       "<catboost.core.CatBoostClassifier at 0x7f71be275198>"
      ]
     },
     "execution_count": 182,
     "metadata": {},
     "output_type": "execute_result"
    }
   ],
   "source": [
    "#if you don't have catboost installed, use !pip install catboost\n",
    "from catboost import Pool, CatBoostClassifier\n",
    "\n",
    "# fix seed to make reproducible results\n",
    "seed=42\n",
    "\n",
    "# Initialize CatBoostRegressor\n",
    "model = CatBoostClassifier(random_seed=seed, loss_function='MultiClass',\n",
    "                          learning_rate=0.5, depth=10, iterations=500, thread_count=15)\n",
    "# Fit model\n",
    "model.fit(\n",
    "    X_train, y_train_tr, \n",
    "    eval_set=(X_validate, y_validate_tr)\n",
    ")"
   ]
  },
  {
   "cell_type": "code",
   "execution_count": 183,
   "metadata": {},
   "outputs": [
    {
     "data": {
      "image/png": "[encoded data removed]",
      "text/plain": [
       "<Figure size 432x648 with 1 Axes>"
      ]
     },
     "metadata": {},
     "output_type": "display_data"
    }
   ],
   "source": [
    "# first 20 important features\n",
    "TOP_FEATURES_NUMBER = 20\n",
    "\n",
    "order = np.argsort(model._feature_importance)[-TOP_FEATURES_NUMBER:]\n",
    "plt.figure(figsize=[6,9])\n",
    "plt.plot(np.array(model._feature_importance)[order],range(len(order)),marker='o')\n",
    "plt.yticks(range(TOP_FEATURES_NUMBER),X_train.columns[order]);\n",
    "plt.tick_params(labelsize=16)\n",
    "plt.xlim([0.1,max(model._feature_importance)*1.5])\n",
    "plt.ylim(-1,len(order))\n",
    "plt.grid(True, axis='y')\n",
    "plt.xscale('log')"
   ]
  },
  {
   "cell_type": "markdown",
   "metadata": {},
   "source": [
    "### Применение и оценка результатов\n",
    "Применим полученную модель к нашему тесту"
   ]
  },
  {
   "cell_type": "code",
   "execution_count": 184,
   "metadata": {},
   "outputs": [
    {
     "name": "stdout",
     "output_type": "stream",
     "text": [
      "[[2.]\n",
      " [0.]\n",
      " [0.]\n",
      " ...\n",
      " [3.]\n",
      " [3.]\n",
      " [0.]]\n"
     ]
    }
   ],
   "source": [
    "predictions = model.predict(X_test)\n",
    "print(predictions)\n",
    "# test_pool_df = test_pool_df.copy()\n",
    "# test_pool_df.loc[:, 'predictions'] = predictions"
   ]
  },
  {
   "cell_type": "code",
   "execution_count": 185,
   "metadata": {},
   "outputs": [
    {
     "data": {
      "text/plain": [
       "(394737, 1)"
      ]
     },
     "execution_count": 185,
     "metadata": {},
     "output_type": "execute_result"
    }
   ],
   "source": [
    "y = y_test_tr.reshape(-1, 1)\n",
    "y.shape"
   ]
  },
  {
   "cell_type": "code",
   "execution_count": 186,
   "metadata": {},
   "outputs": [
    {
     "data": {
      "text/plain": [
       "(394737, 1)"
      ]
     },
     "execution_count": 186,
     "metadata": {},
     "output_type": "execute_result"
    }
   ],
   "source": [
    "predictions.shape"
   ]
  },
  {
   "cell_type": "code",
   "execution_count": 187,
   "metadata": {},
   "outputs": [
    {
     "data": {
      "text/plain": [
       "array([0.80698288])"
      ]
     },
     "execution_count": 187,
     "metadata": {},
     "output_type": "execute_result"
    }
   ],
   "source": [
    "sum(predictions == y) / (len(predictions))"
   ]
  },
  {
   "cell_type": "code",
   "execution_count": 188,
   "metadata": {},
   "outputs": [
    {
     "name": "stdout",
     "output_type": "stream",
     "text": [
      "             precision    recall  f1-score   support\n",
      "\n",
      "          0       0.86      0.79      0.83    108181\n",
      "          1       0.83      0.37      0.51      2748\n",
      "          2       0.81      0.65      0.72    102934\n",
      "          3       0.78      0.91      0.84    180874\n",
      "\n",
      "avg / total       0.81      0.81      0.80    394737\n",
      "\n"
     ]
    }
   ],
   "source": [
    "from sklearn.metrics import classification_report\n",
    "\n",
    "print(classification_report(y, predictions))"
   ]
  },
  {
   "cell_type": "code",
   "execution_count": 201,
   "metadata": {},
   "outputs": [],
   "source": [
    "# model.save_model('', format=\"CPP\")\n",
    "model.save_model(\n",
    "    \"models/catboost/2.mlmodel\",\n",
    "    format=\"cbm\"\n",
    ")\n"
   ]
  },
  {
   "cell_type": "code",
   "execution_count": 203,
   "metadata": {},
   "outputs": [],
   "source": [
    "model2 = CatBoostClassifier().load_model(\"models/catboost/2.mlmodel\")"
   ]
  },
  {
   "cell_type": "code",
   "execution_count": 215,
   "metadata": {},
   "outputs": [],
   "source": [
    "res =model2.predict(X_test)"
   ]
  },
  {
   "cell_type": "code",
   "execution_count": 208,
   "metadata": {},
   "outputs": [],
   "source": [
    "# save columns\n",
    "np.save(\"models/catboost/2-headers.mlmodel\", le.classes_)"
   ]
  },
  {
   "cell_type": "code",
   "execution_count": 213,
   "metadata": {},
   "outputs": [],
   "source": [
    "encoder = preprocessing.LabelEncoder()\n",
    "encoder.classes_ = np.load('./models/catboost/2-headers.mlmodel.npy')"
   ]
  },
  {
   "cell_type": "code",
   "execution_count": 220,
   "metadata": {},
   "outputs": [
    {
     "name": "stderr",
     "output_type": "stream",
     "text": [
      "/home/zh.shakenov/miniconda3/envs/disser/lib/python3.6/site-packages/sklearn/preprocessing/label.py:151: DeprecationWarning: The truth value of an empty array is ambiguous. Returning False, but in future this will result in an error. Use `array.size > 0` to check that an array is not empty.\n",
      "  if diff:\n"
     ]
    },
    {
     "data": {
      "text/plain": [
       "array([['vehicle'],\n",
       "       ['bike'],\n",
       "       ['bike'],\n",
       "       ...,\n",
       "       ['walk'],\n",
       "       ['walk'],\n",
       "       ['bike']], dtype=object)"
      ]
     },
     "execution_count": 220,
     "metadata": {},
     "output_type": "execute_result"
    }
   ],
   "source": [
    "encoder.inverse_transform(res.astype(int))"
   ]
  },
  {
   "cell_type": "code",
   "execution_count": 219,
   "metadata": {},
   "outputs": [
    {
     "data": {
      "text/plain": [
       "array([[2],\n",
       "       [0],\n",
       "       [0],\n",
       "       ...,\n",
       "       [3],\n",
       "       [3],\n",
       "       [0]])"
      ]
     },
     "execution_count": 219,
     "metadata": {},
     "output_type": "execute_result"
    }
   ],
   "source": []
  },
  {
   "cell_type": "code",
   "execution_count": null,
   "metadata": {},
   "outputs": [],
   "source": []
  }
 ],
 "metadata": {
  "kernelspec": {
   "display_name": "Python 3",
   "language": "python",
   "name": "python3"
  },
  "language_info": {
   "codemirror_mode": {
    "name": "ipython",
    "version": 3
   },
   "file_extension": ".py",
   "mimetype": "text/x-python",
   "name": "python",
   "nbconvert_exporter": "python",
   "pygments_lexer": "ipython3",
   "version": "3.6.4"
  }
 },
 "nbformat": 4,
 "nbformat_minor": 2
}
